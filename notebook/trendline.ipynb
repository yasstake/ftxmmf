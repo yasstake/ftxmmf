{
 "cells": [
  {
   "cell_type": "code",
   "execution_count": 51,
   "metadata": {
    "collapsed": true
   },
   "outputs": [
    {
     "data": {
      "text/plain": "                     time_stamp       open      close       high        low\ntime                                                                       \n0    2020-05-04 23:46:06.755482  9606800.0  9603390.0  9608500.0  9602500.0\n1    2020-05-04 23:46:52.193094  9603740.0  9599980.0  9609020.0  9598540.0\n2    2020-05-04 23:47:35.195088  9600000.0  9603570.0  9603570.0  9594030.0\n3    2020-05-04 23:48:47.474026  9603570.0  9607500.0  9607500.0  9595320.0\n4    2020-05-04 23:49:16.466727  9607510.0  9616460.0  9616460.0  9605710.0\n...                         ...        ...        ...        ...        ...\n769  2020-05-05 05:22:53.532117  9844740.0  9844960.0  9848250.0  9841760.0\n770  2020-05-05 05:23:25.928302  9845050.0  9848950.0  9850000.0  9844260.0\n771  2020-05-05 05:23:57.737884  9849430.0  9851050.0  9851840.0  9846920.0\n772  2020-05-05 05:24:26.129849  9851090.0  9851860.0  9854560.0  9847620.0\n773  2020-05-05 05:25:04.984995  9851860.0  9856090.0  9856090.0  9849940.0\n\n[774 rows x 5 columns]",
      "text/html": "<div>\n<style scoped>\n    .dataframe tbody tr th:only-of-type {\n        vertical-align: middle;\n    }\n\n    .dataframe tbody tr th {\n        vertical-align: top;\n    }\n\n    .dataframe thead th {\n        text-align: right;\n    }\n</style>\n<table border=\"1\" class=\"dataframe\">\n  <thead>\n    <tr style=\"text-align: right;\">\n      <th></th>\n      <th>time_stamp</th>\n      <th>open</th>\n      <th>close</th>\n      <th>high</th>\n      <th>low</th>\n    </tr>\n    <tr>\n      <th>time</th>\n      <th></th>\n      <th></th>\n      <th></th>\n      <th></th>\n      <th></th>\n    </tr>\n  </thead>\n  <tbody>\n    <tr>\n      <th>0</th>\n      <td>2020-05-04 23:46:06.755482</td>\n      <td>9606800.0</td>\n      <td>9603390.0</td>\n      <td>9608500.0</td>\n      <td>9602500.0</td>\n    </tr>\n    <tr>\n      <th>1</th>\n      <td>2020-05-04 23:46:52.193094</td>\n      <td>9603740.0</td>\n      <td>9599980.0</td>\n      <td>9609020.0</td>\n      <td>9598540.0</td>\n    </tr>\n    <tr>\n      <th>2</th>\n      <td>2020-05-04 23:47:35.195088</td>\n      <td>9600000.0</td>\n      <td>9603570.0</td>\n      <td>9603570.0</td>\n      <td>9594030.0</td>\n    </tr>\n    <tr>\n      <th>3</th>\n      <td>2020-05-04 23:48:47.474026</td>\n      <td>9603570.0</td>\n      <td>9607500.0</td>\n      <td>9607500.0</td>\n      <td>9595320.0</td>\n    </tr>\n    <tr>\n      <th>4</th>\n      <td>2020-05-04 23:49:16.466727</td>\n      <td>9607510.0</td>\n      <td>9616460.0</td>\n      <td>9616460.0</td>\n      <td>9605710.0</td>\n    </tr>\n    <tr>\n      <th>...</th>\n      <td>...</td>\n      <td>...</td>\n      <td>...</td>\n      <td>...</td>\n      <td>...</td>\n    </tr>\n    <tr>\n      <th>769</th>\n      <td>2020-05-05 05:22:53.532117</td>\n      <td>9844740.0</td>\n      <td>9844960.0</td>\n      <td>9848250.0</td>\n      <td>9841760.0</td>\n    </tr>\n    <tr>\n      <th>770</th>\n      <td>2020-05-05 05:23:25.928302</td>\n      <td>9845050.0</td>\n      <td>9848950.0</td>\n      <td>9850000.0</td>\n      <td>9844260.0</td>\n    </tr>\n    <tr>\n      <th>771</th>\n      <td>2020-05-05 05:23:57.737884</td>\n      <td>9849430.0</td>\n      <td>9851050.0</td>\n      <td>9851840.0</td>\n      <td>9846920.0</td>\n    </tr>\n    <tr>\n      <th>772</th>\n      <td>2020-05-05 05:24:26.129849</td>\n      <td>9851090.0</td>\n      <td>9851860.0</td>\n      <td>9854560.0</td>\n      <td>9847620.0</td>\n    </tr>\n    <tr>\n      <th>773</th>\n      <td>2020-05-05 05:25:04.984995</td>\n      <td>9851860.0</td>\n      <td>9856090.0</td>\n      <td>9856090.0</td>\n      <td>9849940.0</td>\n    </tr>\n  </tbody>\n</table>\n<p>774 rows × 5 columns</p>\n</div>"
     },
     "execution_count": 51,
     "metadata": {},
     "output_type": "execute_result"
    }
   ],
   "source": [
    "import pandas as pd\n",
    "import statsmodels.formula.api as smf\n",
    "from exchange.board import *\n",
    "from matplotlib import pyplot as plt\n",
    "\n",
    "history = load_file('../DATA/BF-TEST.log')\n",
    "df = history.dollar_bar(tick_vol=50)\n",
    "df"
   ]
  },
  {
   "cell_type": "code",
   "execution_count": 52,
   "outputs": [
    {
     "data": {
      "text/plain": "774"
     },
     "execution_count": 52,
     "metadata": {},
     "output_type": "execute_result"
    }
   ],
   "source": [
    "df = df[['close']]\n",
    "df.reset_index(inplace=True)\n",
    "record_number = len(df)\n",
    "record_number"
   ],
   "metadata": {
    "collapsed": false,
    "pycharm": {
     "name": "#%%\n"
    }
   }
  },
  {
   "cell_type": "code",
   "execution_count": 53,
   "outputs": [
    {
     "data": {
      "text/plain": "<statsmodels.regression.linear_model.RegressionResultsWrapper at 0x7fd9def26610>"
     },
     "execution_count": 53,
     "metadata": {},
     "output_type": "execute_result"
    }
   ],
   "source": [
    "model = smf.ols(formula='close ~ time', data=df)\n",
    "results = model.fit()\n",
    "\n",
    "results\n"
   ],
   "metadata": {
    "collapsed": false,
    "pycharm": {
     "name": "#%%\n"
    }
   }
  },
  {
   "cell_type": "code",
   "execution_count": 54,
   "outputs": [
    {
     "data": {
      "text/plain": "<class 'statsmodels.iolib.summary.Summary'>\n\"\"\"\n                            OLS Regression Results                            \n==============================================================================\nDep. Variable:                  close   R-squared:                       0.535\nModel:                            OLS   Adj. R-squared:                  0.535\nMethod:                 Least Squares   F-statistic:                     889.2\nDate:                Mon, 21 Sep 2020   Prob (F-statistic):          1.35e-130\nTime:                        22:06:37   Log-Likelihood:                -9650.8\nNo. Observations:                 774   AIC:                         1.931e+04\nDf Residuals:                     772   BIC:                         1.931e+04\nDf Model:                           1                                         \nCovariance Type:            nonrobust                                         \n==============================================================================\n                 coef    std err          t      P>|t|      [0.025      0.975]\n------------------------------------------------------------------------------\nIntercept   9.563e+06   4525.717   2112.983      0.000    9.55e+06    9.57e+06\ntime         302.2910     10.137     29.819      0.000     282.391     322.191\n==============================================================================\nOmnibus:                      696.393   Durbin-Watson:                   0.008\nProb(Omnibus):                  0.000   Jarque-Bera (JB):               48.948\nSkew:                          -0.031   Prob(JB):                     2.35e-11\nKurtosis:                       1.770   Cond. No.                         892.\n==============================================================================\n\nWarnings:\n[1] Standard Errors assume that the covariance matrix of the errors is correctly specified.\n\"\"\"",
      "text/html": "<table class=\"simpletable\">\n<caption>OLS Regression Results</caption>\n<tr>\n  <th>Dep. Variable:</th>          <td>close</td>      <th>  R-squared:         </th> <td>   0.535</td> \n</tr>\n<tr>\n  <th>Model:</th>                   <td>OLS</td>       <th>  Adj. R-squared:    </th> <td>   0.535</td> \n</tr>\n<tr>\n  <th>Method:</th>             <td>Least Squares</td>  <th>  F-statistic:       </th> <td>   889.2</td> \n</tr>\n<tr>\n  <th>Date:</th>             <td>Mon, 21 Sep 2020</td> <th>  Prob (F-statistic):</th> <td>1.35e-130</td>\n</tr>\n<tr>\n  <th>Time:</th>                 <td>22:06:37</td>     <th>  Log-Likelihood:    </th> <td> -9650.8</td> \n</tr>\n<tr>\n  <th>No. Observations:</th>      <td>   774</td>      <th>  AIC:               </th> <td>1.931e+04</td>\n</tr>\n<tr>\n  <th>Df Residuals:</th>          <td>   772</td>      <th>  BIC:               </th> <td>1.931e+04</td>\n</tr>\n<tr>\n  <th>Df Model:</th>              <td>     1</td>      <th>                     </th>     <td> </td>    \n</tr>\n<tr>\n  <th>Covariance Type:</th>      <td>nonrobust</td>    <th>                     </th>     <td> </td>    \n</tr>\n</table>\n<table class=\"simpletable\">\n<tr>\n      <td></td>         <th>coef</th>     <th>std err</th>      <th>t</th>      <th>P>|t|</th>  <th>[0.025</th>    <th>0.975]</th>  \n</tr>\n<tr>\n  <th>Intercept</th> <td> 9.563e+06</td> <td> 4525.717</td> <td> 2112.983</td> <td> 0.000</td> <td> 9.55e+06</td> <td> 9.57e+06</td>\n</tr>\n<tr>\n  <th>time</th>      <td>  302.2910</td> <td>   10.137</td> <td>   29.819</td> <td> 0.000</td> <td>  282.391</td> <td>  322.191</td>\n</tr>\n</table>\n<table class=\"simpletable\">\n<tr>\n  <th>Omnibus:</th>       <td>696.393</td> <th>  Durbin-Watson:     </th> <td>   0.008</td>\n</tr>\n<tr>\n  <th>Prob(Omnibus):</th> <td> 0.000</td>  <th>  Jarque-Bera (JB):  </th> <td>  48.948</td>\n</tr>\n<tr>\n  <th>Skew:</th>          <td>-0.031</td>  <th>  Prob(JB):          </th> <td>2.35e-11</td>\n</tr>\n<tr>\n  <th>Kurtosis:</th>      <td> 1.770</td>  <th>  Cond. No.          </th> <td>    892.</td>\n</tr>\n</table><br/><br/>Warnings:<br/>[1] Standard Errors assume that the covariance matrix of the errors is correctly specified."
     },
     "execution_count": 54,
     "metadata": {},
     "output_type": "execute_result"
    }
   ],
   "source": [
    "results.summary()"
   ],
   "metadata": {
    "collapsed": false,
    "pycharm": {
     "name": "#%%\n"
    }
   }
  },
  {
   "cell_type": "code",
   "execution_count": 55,
   "outputs": [
    {
     "data": {
      "text/plain": "Intercept    9.562763e+06\ntime         3.022910e+02\ndtype: float64"
     },
     "execution_count": 55,
     "metadata": {},
     "output_type": "execute_result"
    }
   ],
   "source": [
    "results.params\n",
    "\n"
   ],
   "metadata": {
    "collapsed": false,
    "pycharm": {
     "name": "#%%\n"
    }
   }
  },
  {
   "cell_type": "code",
   "execution_count": 60,
   "outputs": [
    {
     "data": {
      "text/plain": "<Figure size 432x288 with 1 Axes>",
      "image/png": "[encoded data removed]"
     },
     "metadata": {
      "needs_background": "light"
     },
     "output_type": "display_data"
    }
   ],
   "source": [
    "X = df['time']\n",
    "plt.scatter(X, df['close'])\n",
    "\n",
    "a = 1.9735\n",
    "b = 9842621\n",
    "plt.plot(X, a * X + b)\n",
    "\n",
    "\n",
    "a = 181.6\n",
    "b = 9590786\n",
    "plt.plot(X, a * X + b)\n",
    "\n",
    "a = 1154\n",
    "b = 9094710\n",
    "plt.plot(X, a * X + b)\n",
    "\n",
    "a = 657\n",
    "b = 9414133\n",
    "plt.plot(X, a * X + b)\n",
    "\n",
    "\n",
    "plt.show()\n"
   ],
   "metadata": {
    "collapsed": false,
    "pycharm": {
     "name": "#%%\n"
    }
   }
  },
  {
   "cell_type": "code",
   "execution_count": null,
   "outputs": [],
   "source": [
    "\n"
   ],
   "metadata": {
    "collapsed": false,
    "pycharm": {
     "name": "#%%\n"
    }
   }
  }
 ],
 "metadata": {
  "kernelspec": {
   "name": "python3",
   "language": "python",
   "display_name": "Python 3"
  },
  "language_info": {
   "codemirror_mode": {
    "name": "ipython",
    "version": 2
   },
   "file_extension": ".py",
   "mimetype": "text/x-python",
   "name": "python",
   "nbconvert_exporter": "python",
   "pygments_lexer": "ipython2",
   "version": "2.7.6"
  }
 },
 "nbformat": 4,
 "nbformat_minor": 0
}