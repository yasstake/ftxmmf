{
 "cells": [
  {
   "cell_type": "code",
   "execution_count": 1,
   "metadata": {
    "collapsed": true
   },
   "outputs": [],
   "source": [
    "import talib\n",
    "from matplotlib import pyplot as plt\n",
    "from exchange.board import *\n",
    "from matplotlib import pyplot as plt"
   ]
  },
  {
   "cell_type": "code",
   "execution_count": 2,
   "outputs": [],
   "source": [
    "root_path = '../DATA/BB/10/'\n",
    "\n",
    "files = ('BB-2020-10-01T00-09-41.084127Z.log.gz',\n",
    "    'BB-2020-10-01T01-00-58.670877Z.log.gz',\n",
    "    'BB-2020-10-01T01-53-02.064144Z.log.gz',\n",
    "    'BB-2020-10-01T02-44-49.406307Z.log.gz',\n",
    "    'BB-2020-10-01T03-36-14.186767Z.log.gz',\n",
    "    'BB-2020-10-01T04-27-59.817297Z.log.gz',\n",
    "    'BB-2020-10-01T05-19-36.804052Z.log.gz',\n",
    "    'BB-2020-10-01T06-11-06.849645Z.log.gz',\n",
    "    'BB-2020-10-01T07-02-24.289180Z.log.gz',\n",
    "    'BB-2020-10-01T07-54-13.840578Z.log.gz',\n",
    "    'BB-2020-10-01T08-45-42.229831Z.log.gz',\n",
    "    'BB-2020-10-01T09-37-01.732325Z.log.gz',\n",
    "    'BB-2020-10-01T10-28-16.647548Z.log.gz')"
   ],
   "metadata": {
    "collapsed": false,
    "pycharm": {
     "name": "#%%\n"
    }
   }
  },
  {
   "cell_type": "code",
   "execution_count": 3,
   "outputs": [
    {
     "name": "stdout",
     "output_type": "stream",
     "text": [
      "chop too short 2020-10-01 01:03:42.258000 2020-10-01 01:15:42.258000\n",
      "chop too short 2020-10-01 02:24:19.906000 2020-10-01 02:36:19.906000\n",
      "chop too short 2020-10-01 02:41:23.878000 2020-10-01 02:53:23.878000\n",
      "64\n"
     ]
    },
    {
     "data": {
      "text/plain": "                  time_stamp     open    close     high      low  sell_volume  \\\ntime                                                                            \n0    2020-10-01 00:12:58.047  10796.0  10792.5  10796.0  10792.0        3.155   \n1    2020-10-01 00:15:25.225  10792.0  10796.0  10796.0  10792.0        2.200   \n2    2020-10-01 00:17:46.406  10796.0  10791.5  10798.5  10791.5        3.308   \n3    2020-10-01 00:18:24.453  10791.5  10785.5  10791.5  10785.5        4.720   \n4    2020-10-01 00:22:37.969  10785.5  10789.5  10789.5  10785.5        3.380   \n...                      ...      ...      ...      ...      ...          ...   \n59   2020-10-01 02:23:23.764  10808.5  10808.0  10808.5  10808.0        2.773   \n60   2020-10-01 02:23:23.764  10808.0  10808.0  10808.0  10808.0        5.287   \n61   2020-10-01 02:24:19.906  10808.0  10808.0  10808.0  10808.0        5.288   \n62   2020-10-01 02:39:38.712  10808.0  10808.5  10808.5  10808.0        1.572   \n63   2020-10-01 02:41:23.878  10808.5  10810.5  10810.5  10808.0        3.166   \n\n      buy_volume  bs_ratio  market_buy  market_sell  limit_buy  limit_sell  \\\ntime                                                                         \n0          1.300  0.291807     10792.5      10792.0        NaN         NaN   \n1          3.383  0.605947     10796.0      10795.5        NaN         NaN   \n2          1.648  0.332526     10792.0      10791.5        NaN     10792.0   \n3          0.000  0.000000     10786.0      10785.5        NaN         NaN   \n4          1.855  0.354346     10789.5      10789.0    10789.0         NaN   \n...          ...       ...         ...          ...        ...         ...   \n59         1.608  0.367039     10808.5      10808.0        NaN         NaN   \n60         0.000  0.000000     10808.5      10808.0        NaN         NaN   \n61         0.000  0.000000     10808.5      10808.0        NaN         NaN   \n62         3.443  0.686540     10808.5      10808.0        NaN         NaN   \n63         0.949  0.230620     10810.0      10809.5        NaN         NaN   \n\n      q_market_buy  q_market_sell  q_limit_buy  q_limit_sell  \ntime                                                          \n0              3.0            6.0          NaN           NaN  \n1             -4.0            9.5          NaN           NaN  \n2              3.0            5.5          NaN           6.0  \n3              9.0           -3.5          NaN           NaN  \n4              5.5           -6.0          6.0           NaN  \n...            ...            ...          ...           ...  \n59            -0.5           -0.5          NaN           NaN  \n60            -0.5           -0.5          NaN           NaN  \n61             NaN            NaN          NaN           NaN  \n62             1.0           -2.0          NaN           NaN  \n63             NaN            NaN          NaN           NaN  \n\n[64 rows x 16 columns]",
      "text/html": "<div>\n<style scoped>\n    .dataframe tbody tr th:only-of-type {\n        vertical-align: middle;\n    }\n\n    .dataframe tbody tr th {\n        vertical-align: top;\n    }\n\n    .dataframe thead th {\n        text-align: right;\n    }\n</style>\n<table border=\"1\" class=\"dataframe\">\n  <thead>\n    <tr style=\"text-align: right;\">\n      <th></th>\n      <th>time_stamp</th>\n      <th>open</th>\n      <th>close</th>\n      <th>high</th>\n      <th>low</th>\n      <th>sell_volume</th>\n      <th>buy_volume</th>\n      <th>bs_ratio</th>\n      <th>market_buy</th>\n      <th>market_sell</th>\n      <th>limit_buy</th>\n      <th>limit_sell</th>\n      <th>q_market_buy</th>\n      <th>q_market_sell</th>\n      <th>q_limit_buy</th>\n      <th>q_limit_sell</th>\n    </tr>\n    <tr>\n      <th>time</th>\n      <th></th>\n      <th></th>\n      <th></th>\n      <th></th>\n      <th></th>\n      <th></th>\n      <th></th>\n      <th></th>\n      <th></th>\n      <th></th>\n      <th></th>\n      <th></th>\n      <th></th>\n      <th></th>\n      <th></th>\n      <th></th>\n    </tr>\n  </thead>\n  <tbody>\n    <tr>\n      <th>0</th>\n      <td>2020-10-01 00:12:58.047</td>\n      <td>10796.0</td>\n      <td>10792.5</td>\n      <td>10796.0</td>\n      <td>10792.0</td>\n      <td>3.155</td>\n      <td>1.300</td>\n      <td>0.291807</td>\n      <td>10792.5</td>\n      <td>10792.0</td>\n      <td>NaN</td>\n      <td>NaN</td>\n      <td>3.0</td>\n      <td>6.0</td>\n      <td>NaN</td>\n      <td>NaN</td>\n    </tr>\n    <tr>\n      <th>1</th>\n      <td>2020-10-01 00:15:25.225</td>\n      <td>10792.0</td>\n      <td>10796.0</td>\n      <td>10796.0</td>\n      <td>10792.0</td>\n      <td>2.200</td>\n      <td>3.383</td>\n      <td>0.605947</td>\n      <td>10796.0</td>\n      <td>10795.5</td>\n      <td>NaN</td>\n      <td>NaN</td>\n      <td>-4.0</td>\n      <td>9.5</td>\n      <td>NaN</td>\n      <td>NaN</td>\n    </tr>\n    <tr>\n      <th>2</th>\n      <td>2020-10-01 00:17:46.406</td>\n      <td>10796.0</td>\n      <td>10791.5</td>\n      <td>10798.5</td>\n      <td>10791.5</td>\n      <td>3.308</td>\n      <td>1.648</td>\n      <td>0.332526</td>\n      <td>10792.0</td>\n      <td>10791.5</td>\n      <td>NaN</td>\n      <td>10792.0</td>\n      <td>3.0</td>\n      <td>5.5</td>\n      <td>NaN</td>\n      <td>6.0</td>\n    </tr>\n    <tr>\n      <th>3</th>\n      <td>2020-10-01 00:18:24.453</td>\n      <td>10791.5</td>\n      <td>10785.5</td>\n      <td>10791.5</td>\n      <td>10785.5</td>\n      <td>4.720</td>\n      <td>0.000</td>\n      <td>0.000000</td>\n      <td>10786.0</td>\n      <td>10785.5</td>\n      <td>NaN</td>\n      <td>NaN</td>\n      <td>9.0</td>\n      <td>-3.5</td>\n      <td>NaN</td>\n      <td>NaN</td>\n    </tr>\n    <tr>\n      <th>4</th>\n      <td>2020-10-01 00:22:37.969</td>\n      <td>10785.5</td>\n      <td>10789.5</td>\n      <td>10789.5</td>\n      <td>10785.5</td>\n      <td>3.380</td>\n      <td>1.855</td>\n      <td>0.354346</td>\n      <td>10789.5</td>\n      <td>10789.0</td>\n      <td>10789.0</td>\n      <td>NaN</td>\n      <td>5.5</td>\n      <td>-6.0</td>\n      <td>6.0</td>\n      <td>NaN</td>\n    </tr>\n    <tr>\n      <th>...</th>\n      <td>...</td>\n      <td>...</td>\n      <td>...</td>\n      <td>...</td>\n      <td>...</td>\n      <td>...</td>\n      <td>...</td>\n      <td>...</td>\n      <td>...</td>\n      <td>...</td>\n      <td>...</td>\n      <td>...</td>\n      <td>...</td>\n      <td>...</td>\n      <td>...</td>\n      <td>...</td>\n    </tr>\n    <tr>\n      <th>59</th>\n      <td>2020-10-01 02:23:23.764</td>\n      <td>10808.5</td>\n      <td>10808.0</td>\n      <td>10808.5</td>\n      <td>10808.0</td>\n      <td>2.773</td>\n      <td>1.608</td>\n      <td>0.367039</td>\n      <td>10808.5</td>\n      <td>10808.0</td>\n      <td>NaN</td>\n      <td>NaN</td>\n      <td>-0.5</td>\n      <td>-0.5</td>\n      <td>NaN</td>\n      <td>NaN</td>\n    </tr>\n    <tr>\n      <th>60</th>\n      <td>2020-10-01 02:23:23.764</td>\n      <td>10808.0</td>\n      <td>10808.0</td>\n      <td>10808.0</td>\n      <td>10808.0</td>\n      <td>5.287</td>\n      <td>0.000</td>\n      <td>0.000000</td>\n      <td>10808.5</td>\n      <td>10808.0</td>\n      <td>NaN</td>\n      <td>NaN</td>\n      <td>-0.5</td>\n      <td>-0.5</td>\n      <td>NaN</td>\n      <td>NaN</td>\n    </tr>\n    <tr>\n      <th>61</th>\n      <td>2020-10-01 02:24:19.906</td>\n      <td>10808.0</td>\n      <td>10808.0</td>\n      <td>10808.0</td>\n      <td>10808.0</td>\n      <td>5.288</td>\n      <td>0.000</td>\n      <td>0.000000</td>\n      <td>10808.5</td>\n      <td>10808.0</td>\n      <td>NaN</td>\n      <td>NaN</td>\n      <td>NaN</td>\n      <td>NaN</td>\n      <td>NaN</td>\n      <td>NaN</td>\n    </tr>\n    <tr>\n      <th>62</th>\n      <td>2020-10-01 02:39:38.712</td>\n      <td>10808.0</td>\n      <td>10808.5</td>\n      <td>10808.5</td>\n      <td>10808.0</td>\n      <td>1.572</td>\n      <td>3.443</td>\n      <td>0.686540</td>\n      <td>10808.5</td>\n      <td>10808.0</td>\n      <td>NaN</td>\n      <td>NaN</td>\n      <td>1.0</td>\n      <td>-2.0</td>\n      <td>NaN</td>\n      <td>NaN</td>\n    </tr>\n    <tr>\n      <th>63</th>\n      <td>2020-10-01 02:41:23.878</td>\n      <td>10808.5</td>\n      <td>10810.5</td>\n      <td>10810.5</td>\n      <td>10808.0</td>\n      <td>3.166</td>\n      <td>0.949</td>\n      <td>0.230620</td>\n      <td>10810.0</td>\n      <td>10809.5</td>\n      <td>NaN</td>\n      <td>NaN</td>\n      <td>NaN</td>\n      <td>NaN</td>\n      <td>NaN</td>\n      <td>NaN</td>\n    </tr>\n  </tbody>\n</table>\n<p>64 rows × 16 columns</p>\n</div>"
     },
     "execution_count": 3,
     "metadata": {},
     "output_type": "execute_result"
    }
   ],
   "source": [
    "history = load_files([root_path+files[0], root_path+files[1], root_path+files[2]])\n",
    "print(len(history.dollar_bar))\n",
    "\n",
    "history.dollar_bar"
   ],
   "metadata": {
    "collapsed": false,
    "pycharm": {
     "name": "#%%\n"
    }
   }
  },
  {
   "cell_type": "code",
   "execution_count": 5,
   "outputs": [
    {
     "data": {
      "text/plain": "<matplotlib.collections.PathCollection at 0x7f9d0771fa90>"
     },
     "execution_count": 5,
     "metadata": {},
     "output_type": "execute_result"
    },
    {
     "data": {
      "text/plain": "<Figure size 432x288 with 1 Axes>",
      "image/png": "[encoded data removed]"
     },
     "metadata": {
      "needs_background": "light"
     },
     "output_type": "display_data"
    }
   ],
   "source": [
    "df = history.dollar_bar\n",
    "plt.scatter(df['bs_ratio'], df['q_market_buy'])"
   ],
   "metadata": {
    "collapsed": false,
    "pycharm": {
     "name": "#%%\n"
    }
   }
  },
  {
   "cell_type": "code",
   "execution_count": 9,
   "outputs": [
    {
     "name": "stdout",
     "output_type": "stream",
     "text": [
      "0.43689187524808065\n"
     ]
    }
   ],
   "source": [
    "from minepy import MINE\n",
    "\n",
    "m = MINE()\n",
    "m.compute_score(df['bs_ratio'], df['q_market_buy'])\n",
    "print(m.mic())\n"
   ],
   "metadata": {
    "collapsed": false,
    "pycharm": {
     "name": "#%%\n"
    }
   }
  },
  {
   "cell_type": "code",
   "execution_count": 11,
   "outputs": [
    {
     "data": {
      "text/plain": "<Figure size 432x288 with 1 Axes>",
      "image/png": "[encoded data removed]"
     },
     "metadata": {
      "needs_background": "light"
     },
     "output_type": "display_data"
    },
    {
     "data": {
      "text/plain": "0.2724127051599248"
     },
     "execution_count": 11,
     "metadata": {},
     "output_type": "execute_result"
    }
   ],
   "source": [
    "plt.scatter(df['high']-df['low'], df['q_market_buy'])\n",
    "plt.show()\n",
    "\n",
    "m.compute_score(df['high']-df['low'], df['q_market_buy'])\n",
    "m.mic()\n"
   ],
   "metadata": {
    "collapsed": false,
    "pycharm": {
     "name": "#%%\n"
    }
   }
  },
  {
   "cell_type": "code",
   "execution_count": 12,
   "outputs": [
    {
     "data": {
      "text/plain": "<Figure size 432x288 with 1 Axes>",
      "image/png": "[encoded data removed]"
     },
     "metadata": {
      "needs_background": "light"
     },
     "output_type": "display_data"
    }
   ],
   "source": [
    "plt.scatter(df['open']-df['close'], df['q_market_buy'])\n",
    "plt.show()"
   ],
   "metadata": {
    "collapsed": false,
    "pycharm": {
     "name": "#%%\n"
    }
   }
  },
  {
   "cell_type": "code",
   "execution_count": 25,
   "outputs": [
    {
     "data": {
      "text/plain": "<Figure size 432x288 with 2 Axes>",
      "image/png": "[encoded data removed]"
     },
     "metadata": {
      "needs_background": "light"
     },
     "output_type": "display_data"
    },
    {
     "name": "stdout",
     "output_type": "stream",
     "text": [
      "0.39497429867366385\n"
     ]
    }
   ],
   "source": [
    "import talib\n",
    "from matplotlib import pyplot as plt\n",
    "\n",
    "fig = plt.figure()\n",
    "ax1 = fig.add_subplot(211)\n",
    "ax2 = fig.add_subplot(212)\n",
    "\n",
    "close = df['close'].copy()\n",
    "\n",
    "sma10 = talib.SMA(close, timeperiod=10)\n",
    "sma30 = talib.SMA(close, timeperiod=30)\n",
    "\n",
    "ax1.plot(close)\n",
    "ax1.plot(sma10)\n",
    "ax1.plot(sma30)\n",
    "ax2.plot(df['q_market_buy'])\n",
    "plt.show()\n",
    "\n",
    "m.compute_score(sma10, df['q_market_buy'])\n",
    "print(m.mic())\n",
    "\n"
   ],
   "metadata": {
    "collapsed": false,
    "pycharm": {
     "name": "#%%\n"
    }
   }
  },
  {
   "cell_type": "code",
   "execution_count": 16,
   "outputs": [
    {
     "name": "stdout",
     "output_type": "stream",
     "text": [
      "0.5592762840553555\n"
     ]
    }
   ],
   "source": [
    "m.compute_score(sma30, df['q_market_buy'])\n",
    "print(m.mic())"
   ],
   "metadata": {
    "collapsed": false,
    "pycharm": {
     "name": "#%%\n"
    }
   }
  },
  {
   "cell_type": "code",
   "execution_count": null,
   "outputs": [],
   "source": [
    "plt.hist(close, bins=50)\n",
    "plt.show()"
   ],
   "metadata": {
    "collapsed": false,
    "pycharm": {
     "name": "#%%\n"
    }
   }
  },
  {
   "cell_type": "code",
   "execution_count": 5,
   "outputs": [],
   "source": [],
   "metadata": {
    "collapsed": false,
    "pycharm": {
     "name": "#%%\n"
    }
   }
  },
  {
   "cell_type": "code",
   "execution_count": 5,
   "outputs": [],
   "source": [],
   "metadata": {
    "collapsed": false,
    "pycharm": {
     "name": "#%%\n"
    }
   }
  },
  {
   "cell_type": "code",
   "execution_count": 5,
   "outputs": [],
   "source": [],
   "metadata": {
    "collapsed": false,
    "pycharm": {
     "name": "#%%\n"
    }
   }
  },
  {
   "cell_type": "code",
   "execution_count": null,
   "outputs": [],
   "source": [],
   "metadata": {
    "collapsed": false,
    "pycharm": {
     "name": "#%%\n"
    }
   }
  }
 ],
 "metadata": {
  "kernelspec": {
   "display_name": "Python 3",
   "language": "python",
   "name": "python3"
  },
  "language_info": {
   "codemirror_mode": {
    "name": "ipython",
    "version": 2
   },
   "file_extension": ".py",
   "mimetype": "text/x-python",
   "name": "python",
   "nbconvert_exporter": "python",
   "pygments_lexer": "ipython2",
   "version": "2.7.6"
  }
 },
 "nbformat": 4,
 "nbformat_minor": 0
}