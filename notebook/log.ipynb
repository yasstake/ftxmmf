{
 "cells": [
  {
   "cell_type": "code",
   "execution_count": 14,
   "metadata": {
    "collapsed": true
   },
   "outputs": [],
   "source": [
    "from exchange.log import Trade\n",
    "from exchange.log import TradeBar"
   ]
  },
  {
   "cell_type": "code",
   "execution_count": 15,
   "outputs": [
    {
     "name": "stdout",
     "output_type": "stream",
     "text": [
      "../DATA/BB/05/BB-2020-05-09T06-16-23.367761Z.log.gz 2020050906-0522--2020050906-0533\n",
      "../DATA/BB/05/BB-2020-05-09T06-17-17.496249Z.log.gz 2020050906-0516--2020050907-0526\n",
      "   action                       time  sequence    price  volume  checksum\n",
      "0       1 2020-05-09 06:16:22.636752         0      NaN     NaN       NaN\n",
      "1       3 2020-05-09 06:16:22.636752         0  96020.0   0.025       NaN\n",
      "2       3 2020-05-09 06:16:22.636752         1  96050.0   0.045       NaN\n",
      "3       3 2020-05-09 06:16:22.636752         2  96060.0   4.100       NaN\n",
      "4       3 2020-05-09 06:16:22.636752         3  96065.0   0.025       NaN\n",
      "2020-05-09 07:10:26.235445\n"
     ]
    }
   ],
   "source": [
    "loader = Trade()\n",
    "\n",
    "loader.append('../DATA/BB/05/BB-2020-05-09T06-16-23.367761Z.log.gz')\n",
    "loader.append('../DATA/BB/05/BB-2020-05-09T06-17-17.496249Z.log.gz')\n",
    "\n",
    "print(loader.log_data.head())\n",
    "print(loader.end_time)"
   ],
   "metadata": {
    "collapsed": false,
    "pycharm": {
     "name": "#%%\n"
    }
   }
  },
  {
   "cell_type": "code",
   "execution_count": 16,
   "outputs": [
    {
     "data": {
      "text/plain": "       action                    time  sequence    price  volume  checksum\n410         6 2020-05-09 06:16:17.152         0  98195.0   0.009       NaN\n411         4 2020-05-09 06:16:22.732         0  98200.0   0.002       NaN\n412         4 2020-05-09 06:16:23.737         0  98200.0   0.017       NaN\n489         4 2020-05-09 06:16:32.158         0  98200.0   0.016       NaN\n560         4 2020-05-09 06:16:47.168         0  98200.0   0.472       NaN\n...       ...                     ...       ...      ...     ...       ...\n71261       6 2020-05-09 07:10:03.501         0  97285.0   0.066       NaN\n71316       6 2020-05-09 07:10:07.191         0  97285.0   1.696       NaN\n71366       4 2020-05-09 07:10:13.858         0  97290.0   0.002       NaN\n71380       6 2020-05-09 07:10:15.309         0  97285.0   0.100       NaN\n71558       6 2020-05-09 07:10:23.224         0  97305.0   3.252       NaN\n\n[2502 rows x 6 columns]",
      "text/html": "<div>\n<style scoped>\n    .dataframe tbody tr th:only-of-type {\n        vertical-align: middle;\n    }\n\n    .dataframe tbody tr th {\n        vertical-align: top;\n    }\n\n    .dataframe thead th {\n        text-align: right;\n    }\n</style>\n<table border=\"1\" class=\"dataframe\">\n  <thead>\n    <tr style=\"text-align: right;\">\n      <th></th>\n      <th>action</th>\n      <th>time</th>\n      <th>sequence</th>\n      <th>price</th>\n      <th>volume</th>\n      <th>checksum</th>\n    </tr>\n  </thead>\n  <tbody>\n    <tr>\n      <th>410</th>\n      <td>6</td>\n      <td>2020-05-09 06:16:17.152</td>\n      <td>0</td>\n      <td>98195.0</td>\n      <td>0.009</td>\n      <td>NaN</td>\n    </tr>\n    <tr>\n      <th>411</th>\n      <td>4</td>\n      <td>2020-05-09 06:16:22.732</td>\n      <td>0</td>\n      <td>98200.0</td>\n      <td>0.002</td>\n      <td>NaN</td>\n    </tr>\n    <tr>\n      <th>412</th>\n      <td>4</td>\n      <td>2020-05-09 06:16:23.737</td>\n      <td>0</td>\n      <td>98200.0</td>\n      <td>0.017</td>\n      <td>NaN</td>\n    </tr>\n    <tr>\n      <th>489</th>\n      <td>4</td>\n      <td>2020-05-09 06:16:32.158</td>\n      <td>0</td>\n      <td>98200.0</td>\n      <td>0.016</td>\n      <td>NaN</td>\n    </tr>\n    <tr>\n      <th>560</th>\n      <td>4</td>\n      <td>2020-05-09 06:16:47.168</td>\n      <td>0</td>\n      <td>98200.0</td>\n      <td>0.472</td>\n      <td>NaN</td>\n    </tr>\n    <tr>\n      <th>...</th>\n      <td>...</td>\n      <td>...</td>\n      <td>...</td>\n      <td>...</td>\n      <td>...</td>\n      <td>...</td>\n    </tr>\n    <tr>\n      <th>71261</th>\n      <td>6</td>\n      <td>2020-05-09 07:10:03.501</td>\n      <td>0</td>\n      <td>97285.0</td>\n      <td>0.066</td>\n      <td>NaN</td>\n    </tr>\n    <tr>\n      <th>71316</th>\n      <td>6</td>\n      <td>2020-05-09 07:10:07.191</td>\n      <td>0</td>\n      <td>97285.0</td>\n      <td>1.696</td>\n      <td>NaN</td>\n    </tr>\n    <tr>\n      <th>71366</th>\n      <td>4</td>\n      <td>2020-05-09 07:10:13.858</td>\n      <td>0</td>\n      <td>97290.0</td>\n      <td>0.002</td>\n      <td>NaN</td>\n    </tr>\n    <tr>\n      <th>71380</th>\n      <td>6</td>\n      <td>2020-05-09 07:10:15.309</td>\n      <td>0</td>\n      <td>97285.0</td>\n      <td>0.100</td>\n      <td>NaN</td>\n    </tr>\n    <tr>\n      <th>71558</th>\n      <td>6</td>\n      <td>2020-05-09 07:10:23.224</td>\n      <td>0</td>\n      <td>97305.0</td>\n      <td>3.252</td>\n      <td>NaN</td>\n    </tr>\n  </tbody>\n</table>\n<p>2502 rows × 6 columns</p>\n</div>"
     },
     "execution_count": 16,
     "metadata": {},
     "output_type": "execute_result"
    }
   ],
   "source": [
    "loader.update_logs()\n",
    "\n",
    "loader.exec_log"
   ],
   "metadata": {
    "collapsed": false,
    "pycharm": {
     "name": "#%%\n"
    }
   }
  },
  {
   "cell_type": "code",
   "execution_count": 17,
   "outputs": [
    {
     "name": "stdout",
     "output_type": "stream",
     "text": [
      "time\n",
      "0      98195.0\n",
      "1      98200.0\n",
      "2      98200.0\n",
      "3      98200.0\n",
      "4      98200.0\n",
      "        ...   \n",
      "271    97330.0\n",
      "272    97325.0\n",
      "273    97285.0\n",
      "274    97290.0\n",
      "275    97305.0\n",
      "Name: open, Length: 276, dtype: float64\n",
      "time\n",
      "0      98195.0\n",
      "1      98200.0\n",
      "2      98200.0\n",
      "3      98200.0\n",
      "4      98200.0\n",
      "        ...   \n",
      "271    97325.0\n",
      "272    97295.0\n",
      "273    97285.0\n",
      "274    97285.0\n",
      "275    97305.0\n",
      "Name: close, Length: 276, dtype: float64\n",
      "time\n",
      "0      98195.0\n",
      "1      98200.0\n",
      "2      98200.0\n",
      "3      98200.0\n",
      "4      98200.0\n",
      "        ...   \n",
      "271    97330.0\n",
      "272    97325.0\n",
      "273    97285.0\n",
      "274    97290.0\n",
      "275    97305.0\n",
      "Name: high, Length: 276, dtype: float64\n",
      "time\n",
      "0      98195.0\n",
      "1      98200.0\n",
      "2      98200.0\n",
      "3      98200.0\n",
      "4      98200.0\n",
      "        ...   \n",
      "271    97325.0\n",
      "272    97295.0\n",
      "273    97285.0\n",
      "274    97285.0\n",
      "275    97305.0\n",
      "Name: low, Length: 276, dtype: float64\n"
     ]
    }
   ],
   "source": [
    "bar = TradeBar()\n",
    "\n",
    "bar.setup_ochlv(loader)\n",
    "\n",
    "\n",
    "print(bar.bar['open'])\n",
    "print(bar.bar['close'])\n",
    "print(bar.bar['high'])\n",
    "print(bar.bar['low'])"
   ],
   "metadata": {
    "collapsed": false,
    "pycharm": {
     "name": "#%%\n"
    }
   }
  },
  {
   "cell_type": "code",
   "execution_count": null,
   "outputs": [],
   "source": [
    "bar.bar"
   ],
   "metadata": {
    "collapsed": false,
    "pycharm": {
     "name": "#%%\n"
    }
   }
  },
  {
   "cell_type": "code",
   "execution_count": null,
   "outputs": [],
   "source": [
    "bar.setup_dollar_bar(loader, 2)\n",
    "\n",
    "bar.bar\n"
   ],
   "metadata": {
    "collapsed": false,
    "pycharm": {
     "name": "#%%\n"
    }
   }
  },
  {
   "cell_type": "code",
   "execution_count": 20,
   "outputs": [
    {
     "data": {
      "text/plain": "       action                    time  sequence    price  volume  checksum  \\\n410         6 2020-05-09 06:16:17.152         0  98195.0   0.009       NaN   \n411         4 2020-05-09 06:16:22.732         0  98200.0   0.002       NaN   \n412         4 2020-05-09 06:16:23.737         0  98200.0   0.017       NaN   \n489         4 2020-05-09 06:16:32.158         0  98200.0   0.016       NaN   \n560         4 2020-05-09 06:16:47.168         0  98200.0   0.472       NaN   \n...       ...                     ...       ...      ...     ...       ...   \n71261       6 2020-05-09 07:10:03.501         0  97285.0   0.066       NaN   \n71316       6 2020-05-09 07:10:07.191         0  97285.0   1.696       NaN   \n71366       4 2020-05-09 07:10:13.858         0  97290.0   0.002       NaN   \n71380       6 2020-05-09 07:10:15.309         0  97285.0   0.100       NaN   \n71558       6 2020-05-09 07:10:23.224         0  97305.0   3.252       NaN   \n\n         sum  \n410      0.0  \n411      0.0  \n412      0.0  \n489      0.0  \n560      0.0  \n...      ...  \n71261  867.0  \n71316  868.0  \n71366  868.0  \n71380  868.0  \n71558  870.0  \n\n[2502 rows x 7 columns]",
      "text/html": "<div>\n<style scoped>\n    .dataframe tbody tr th:only-of-type {\n        vertical-align: middle;\n    }\n\n    .dataframe tbody tr th {\n        vertical-align: top;\n    }\n\n    .dataframe thead th {\n        text-align: right;\n    }\n</style>\n<table border=\"1\" class=\"dataframe\">\n  <thead>\n    <tr style=\"text-align: right;\">\n      <th></th>\n      <th>action</th>\n      <th>time</th>\n      <th>sequence</th>\n      <th>price</th>\n      <th>volume</th>\n      <th>checksum</th>\n      <th>sum</th>\n    </tr>\n  </thead>\n  <tbody>\n    <tr>\n      <th>410</th>\n      <td>6</td>\n      <td>2020-05-09 06:16:17.152</td>\n      <td>0</td>\n      <td>98195.0</td>\n      <td>0.009</td>\n      <td>NaN</td>\n      <td>0.0</td>\n    </tr>\n    <tr>\n      <th>411</th>\n      <td>4</td>\n      <td>2020-05-09 06:16:22.732</td>\n      <td>0</td>\n      <td>98200.0</td>\n      <td>0.002</td>\n      <td>NaN</td>\n      <td>0.0</td>\n    </tr>\n    <tr>\n      <th>412</th>\n      <td>4</td>\n      <td>2020-05-09 06:16:23.737</td>\n      <td>0</td>\n      <td>98200.0</td>\n      <td>0.017</td>\n      <td>NaN</td>\n      <td>0.0</td>\n    </tr>\n    <tr>\n      <th>489</th>\n      <td>4</td>\n      <td>2020-05-09 06:16:32.158</td>\n      <td>0</td>\n      <td>98200.0</td>\n      <td>0.016</td>\n      <td>NaN</td>\n      <td>0.0</td>\n    </tr>\n    <tr>\n      <th>560</th>\n      <td>4</td>\n      <td>2020-05-09 06:16:47.168</td>\n      <td>0</td>\n      <td>98200.0</td>\n      <td>0.472</td>\n      <td>NaN</td>\n      <td>0.0</td>\n    </tr>\n    <tr>\n      <th>...</th>\n      <td>...</td>\n      <td>...</td>\n      <td>...</td>\n      <td>...</td>\n      <td>...</td>\n      <td>...</td>\n      <td>...</td>\n    </tr>\n    <tr>\n      <th>71261</th>\n      <td>6</td>\n      <td>2020-05-09 07:10:03.501</td>\n      <td>0</td>\n      <td>97285.0</td>\n      <td>0.066</td>\n      <td>NaN</td>\n      <td>867.0</td>\n    </tr>\n    <tr>\n      <th>71316</th>\n      <td>6</td>\n      <td>2020-05-09 07:10:07.191</td>\n      <td>0</td>\n      <td>97285.0</td>\n      <td>1.696</td>\n      <td>NaN</td>\n      <td>868.0</td>\n    </tr>\n    <tr>\n      <th>71366</th>\n      <td>4</td>\n      <td>2020-05-09 07:10:13.858</td>\n      <td>0</td>\n      <td>97290.0</td>\n      <td>0.002</td>\n      <td>NaN</td>\n      <td>868.0</td>\n    </tr>\n    <tr>\n      <th>71380</th>\n      <td>6</td>\n      <td>2020-05-09 07:10:15.309</td>\n      <td>0</td>\n      <td>97285.0</td>\n      <td>0.100</td>\n      <td>NaN</td>\n      <td>868.0</td>\n    </tr>\n    <tr>\n      <th>71558</th>\n      <td>6</td>\n      <td>2020-05-09 07:10:23.224</td>\n      <td>0</td>\n      <td>97305.0</td>\n      <td>3.252</td>\n      <td>NaN</td>\n      <td>870.0</td>\n    </tr>\n  </tbody>\n</table>\n<p>2502 rows × 7 columns</p>\n</div>"
     },
     "execution_count": 20,
     "metadata": {},
     "output_type": "execute_result"
    }
   ],
   "source": [
    "import numpy as np\n",
    "\n",
    "df = loader.exec_log.copy()\n",
    "df['sum'] = df['volume'].cumsum()  # 1BTC for each bin\n",
    "df['sum'] = np.floor(df['sum']/2)\n",
    "df"
   ],
   "metadata": {
    "collapsed": false,
    "pycharm": {
     "name": "#%%\n"
    }
   }
  },
  {
   "cell_type": "code",
   "execution_count": 21,
   "outputs": [
    {
     "data": {
      "text/plain": "                  time_stamp     open    close     high      low  sell_volume  \\\ntime                                                                            \n0    2020-05-09 06:17:04.177  98195.0  98200.0  98200.0  98195.0        1.303   \n1    2020-05-09 06:19:17.098  98200.0  98155.0  98200.0  98155.0        2.301   \n2    2020-05-09 06:19:33.977  98140.0  98080.0  98140.0  98080.0        0.000   \n3    2020-05-09 06:19:33.977  98080.0  98070.0  98080.0  98070.0        0.000   \n4    2020-05-09 06:19:33.977  98055.0  98055.0  98055.0  98055.0        0.000   \n...                      ...      ...      ...      ...      ...          ...   \n608  2020-05-09 07:09:28.188  97355.0  97325.0  97360.0  97325.0        1.010   \n609  2020-05-09 07:09:57.129  97330.0  97300.0  97330.0  97300.0        0.091   \n610  2020-05-09 07:10:03.501  97295.0  97285.0  97295.0  97285.0        0.000   \n611  2020-05-09 07:10:15.309  97285.0  97285.0  97290.0  97285.0        0.002   \n612  2020-05-09 07:10:23.224  97305.0  97305.0  97305.0  97305.0        0.000   \n\n      buy_volume  \ntime              \n0          0.009  \n1          0.306  \n2          0.235  \n3          7.012  \n4          1.140  \n...          ...  \n608        1.833  \n609        1.514  \n610        1.544  \n611        1.796  \n612        3.252  \n\n[613 rows x 7 columns]",
      "text/html": "<div>\n<style scoped>\n    .dataframe tbody tr th:only-of-type {\n        vertical-align: middle;\n    }\n\n    .dataframe tbody tr th {\n        vertical-align: top;\n    }\n\n    .dataframe thead th {\n        text-align: right;\n    }\n</style>\n<table border=\"1\" class=\"dataframe\">\n  <thead>\n    <tr style=\"text-align: right;\">\n      <th></th>\n      <th>time_stamp</th>\n      <th>open</th>\n      <th>close</th>\n      <th>high</th>\n      <th>low</th>\n      <th>sell_volume</th>\n      <th>buy_volume</th>\n    </tr>\n    <tr>\n      <th>time</th>\n      <th></th>\n      <th></th>\n      <th></th>\n      <th></th>\n      <th></th>\n      <th></th>\n      <th></th>\n    </tr>\n  </thead>\n  <tbody>\n    <tr>\n      <th>0</th>\n      <td>2020-05-09 06:17:04.177</td>\n      <td>98195.0</td>\n      <td>98200.0</td>\n      <td>98200.0</td>\n      <td>98195.0</td>\n      <td>1.303</td>\n      <td>0.009</td>\n    </tr>\n    <tr>\n      <th>1</th>\n      <td>2020-05-09 06:19:17.098</td>\n      <td>98200.0</td>\n      <td>98155.0</td>\n      <td>98200.0</td>\n      <td>98155.0</td>\n      <td>2.301</td>\n      <td>0.306</td>\n    </tr>\n    <tr>\n      <th>2</th>\n      <td>2020-05-09 06:19:33.977</td>\n      <td>98140.0</td>\n      <td>98080.0</td>\n      <td>98140.0</td>\n      <td>98080.0</td>\n      <td>0.000</td>\n      <td>0.235</td>\n    </tr>\n    <tr>\n      <th>3</th>\n      <td>2020-05-09 06:19:33.977</td>\n      <td>98080.0</td>\n      <td>98070.0</td>\n      <td>98080.0</td>\n      <td>98070.0</td>\n      <td>0.000</td>\n      <td>7.012</td>\n    </tr>\n    <tr>\n      <th>4</th>\n      <td>2020-05-09 06:19:33.977</td>\n      <td>98055.0</td>\n      <td>98055.0</td>\n      <td>98055.0</td>\n      <td>98055.0</td>\n      <td>0.000</td>\n      <td>1.140</td>\n    </tr>\n    <tr>\n      <th>...</th>\n      <td>...</td>\n      <td>...</td>\n      <td>...</td>\n      <td>...</td>\n      <td>...</td>\n      <td>...</td>\n      <td>...</td>\n    </tr>\n    <tr>\n      <th>608</th>\n      <td>2020-05-09 07:09:28.188</td>\n      <td>97355.0</td>\n      <td>97325.0</td>\n      <td>97360.0</td>\n      <td>97325.0</td>\n      <td>1.010</td>\n      <td>1.833</td>\n    </tr>\n    <tr>\n      <th>609</th>\n      <td>2020-05-09 07:09:57.129</td>\n      <td>97330.0</td>\n      <td>97300.0</td>\n      <td>97330.0</td>\n      <td>97300.0</td>\n      <td>0.091</td>\n      <td>1.514</td>\n    </tr>\n    <tr>\n      <th>610</th>\n      <td>2020-05-09 07:10:03.501</td>\n      <td>97295.0</td>\n      <td>97285.0</td>\n      <td>97295.0</td>\n      <td>97285.0</td>\n      <td>0.000</td>\n      <td>1.544</td>\n    </tr>\n    <tr>\n      <th>611</th>\n      <td>2020-05-09 07:10:15.309</td>\n      <td>97285.0</td>\n      <td>97285.0</td>\n      <td>97290.0</td>\n      <td>97285.0</td>\n      <td>0.002</td>\n      <td>1.796</td>\n    </tr>\n    <tr>\n      <th>612</th>\n      <td>2020-05-09 07:10:23.224</td>\n      <td>97305.0</td>\n      <td>97305.0</td>\n      <td>97305.0</td>\n      <td>97305.0</td>\n      <td>0.000</td>\n      <td>3.252</td>\n    </tr>\n  </tbody>\n</table>\n<p>613 rows × 7 columns</p>\n</div>"
     },
     "execution_count": 21,
     "metadata": {},
     "output_type": "execute_result"
    }
   ],
   "source": [
    "df.loc[df['action'].isin([4, 5]), 'sell_volume'] = df['volume']\n",
    "df.loc[df['action'].isin([6, 7]), 'buy_volume'] = df['volume']\n",
    "\n",
    "df = df.groupby('sum').agg({'time': 'last', 'price': ['first', 'last', 'max', 'min'],\n",
    "                                   'sell_volume': 'sum', 'buy_volume': 'sum'}, axis=1)\n",
    "df.columns = ['time_stamp', 'open', 'close', 'high', 'low', 'sell_volume', 'buy_volume']\n",
    "df.reset_index(drop=True, inplace=True)\n",
    "df.index.name = 'time'\n",
    "df = df[['time_stamp', 'open', 'close', 'high', 'low', 'sell_volume', 'buy_volume']]\n",
    "df\n",
    "\n",
    "\n"
   ],
   "metadata": {
    "collapsed": false,
    "pycharm": {
     "name": "#%%\n"
    }
   }
  },
  {
   "cell_type": "code",
   "execution_count": 22,
   "outputs": [
    {
     "name": "stdout",
     "output_type": "stream",
     "text": [
      "chop too short 2020-05-09 07:10:16.309000 2020-05-09 07:13:16.309000\n",
      "chop too short 2020-05-09 07:10:24.224000 2020-05-09 07:13:24.224000\n",
      "chop too short 2020-05-09 07:10:24.224000 2020-05-09 07:13:24.224000\n"
     ]
    }
   ],
   "source": [
    "bar.update_price()"
   ],
   "metadata": {
    "collapsed": false,
    "pycharm": {
     "name": "#%%\n"
    }
   }
  },
  {
   "cell_type": "code",
   "execution_count": 23,
   "outputs": [
    {
     "data": {
      "text/plain": "                  time_stamp     open    close     high      low  sell_volume  \\\ntime                                                                            \n0    2020-05-09 06:17:04.177  98195.0  98200.0  98200.0  98195.0        0.009   \n1    2020-05-09 06:19:17.098  98200.0  98155.0  98200.0  98155.0        0.306   \n2    2020-05-09 06:19:33.977  98140.0  98080.0  98140.0  98080.0        0.235   \n3    2020-05-09 06:19:33.977  98080.0  98070.0  98080.0  98070.0        7.012   \n4    2020-05-09 06:19:33.977  98055.0  98055.0  98055.0  98055.0        1.140   \n...                      ...      ...      ...      ...      ...          ...   \n608  2020-05-09 07:09:28.188  97355.0  97325.0  97360.0  97325.0        1.833   \n609  2020-05-09 07:09:57.129  97330.0  97300.0  97330.0  97300.0        1.514   \n610  2020-05-09 07:10:03.501  97295.0  97285.0  97295.0  97285.0        1.544   \n611  2020-05-09 07:10:15.309  97285.0  97285.0  97290.0  97285.0        1.796   \n612  2020-05-09 07:10:23.224  97305.0  97305.0  97305.0  97305.0        3.252   \n\n      buy_volume  bs_ratio  market_buy  market_sell  limit_buy  limit_sell  \ntime                                                                        \n0          1.303  0.993140         NaN      98195.0    98195.0     98200.0  \n1          2.301  0.882624         NaN      98140.0    98100.0     98160.0  \n2          0.000  0.000000         NaN      98080.0    98080.0     98085.0  \n3          0.000  0.000000         NaN      98080.0    98080.0     98085.0  \n4          0.000  0.000000         NaN      98080.0    98080.0     98085.0  \n...          ...       ...         ...          ...        ...         ...  \n608        1.010  0.355259         NaN      97325.0    97325.0     97330.0  \n609        0.091  0.056698         NaN          NaN    97295.0     97305.0  \n610        0.000  0.000000     97290.0          NaN    97285.0     97290.0  \n611        0.002  0.001112         NaN          NaN    97285.0     97290.0  \n612        0.000  0.000000         NaN          NaN    97305.0     97310.0  \n\n[613 rows x 12 columns]",
      "text/html": "<div>\n<style scoped>\n    .dataframe tbody tr th:only-of-type {\n        vertical-align: middle;\n    }\n\n    .dataframe tbody tr th {\n        vertical-align: top;\n    }\n\n    .dataframe thead th {\n        text-align: right;\n    }\n</style>\n<table border=\"1\" class=\"dataframe\">\n  <thead>\n    <tr style=\"text-align: right;\">\n      <th></th>\n      <th>time_stamp</th>\n      <th>open</th>\n      <th>close</th>\n      <th>high</th>\n      <th>low</th>\n      <th>sell_volume</th>\n      <th>buy_volume</th>\n      <th>bs_ratio</th>\n      <th>market_buy</th>\n      <th>market_sell</th>\n      <th>limit_buy</th>\n      <th>limit_sell</th>\n    </tr>\n    <tr>\n      <th>time</th>\n      <th></th>\n      <th></th>\n      <th></th>\n      <th></th>\n      <th></th>\n      <th></th>\n      <th></th>\n      <th></th>\n      <th></th>\n      <th></th>\n      <th></th>\n      <th></th>\n    </tr>\n  </thead>\n  <tbody>\n    <tr>\n      <th>0</th>\n      <td>2020-05-09 06:17:04.177</td>\n      <td>98195.0</td>\n      <td>98200.0</td>\n      <td>98200.0</td>\n      <td>98195.0</td>\n      <td>0.009</td>\n      <td>1.303</td>\n      <td>0.993140</td>\n      <td>NaN</td>\n      <td>98195.0</td>\n      <td>98195.0</td>\n      <td>98200.0</td>\n    </tr>\n    <tr>\n      <th>1</th>\n      <td>2020-05-09 06:19:17.098</td>\n      <td>98200.0</td>\n      <td>98155.0</td>\n      <td>98200.0</td>\n      <td>98155.0</td>\n      <td>0.306</td>\n      <td>2.301</td>\n      <td>0.882624</td>\n      <td>NaN</td>\n      <td>98140.0</td>\n      <td>98100.0</td>\n      <td>98160.0</td>\n    </tr>\n    <tr>\n      <th>2</th>\n      <td>2020-05-09 06:19:33.977</td>\n      <td>98140.0</td>\n      <td>98080.0</td>\n      <td>98140.0</td>\n      <td>98080.0</td>\n      <td>0.235</td>\n      <td>0.000</td>\n      <td>0.000000</td>\n      <td>NaN</td>\n      <td>98080.0</td>\n      <td>98080.0</td>\n      <td>98085.0</td>\n    </tr>\n    <tr>\n      <th>3</th>\n      <td>2020-05-09 06:19:33.977</td>\n      <td>98080.0</td>\n      <td>98070.0</td>\n      <td>98080.0</td>\n      <td>98070.0</td>\n      <td>7.012</td>\n      <td>0.000</td>\n      <td>0.000000</td>\n      <td>NaN</td>\n      <td>98080.0</td>\n      <td>98080.0</td>\n      <td>98085.0</td>\n    </tr>\n    <tr>\n      <th>4</th>\n      <td>2020-05-09 06:19:33.977</td>\n      <td>98055.0</td>\n      <td>98055.0</td>\n      <td>98055.0</td>\n      <td>98055.0</td>\n      <td>1.140</td>\n      <td>0.000</td>\n      <td>0.000000</td>\n      <td>NaN</td>\n      <td>98080.0</td>\n      <td>98080.0</td>\n      <td>98085.0</td>\n    </tr>\n    <tr>\n      <th>...</th>\n      <td>...</td>\n      <td>...</td>\n      <td>...</td>\n      <td>...</td>\n      <td>...</td>\n      <td>...</td>\n      <td>...</td>\n      <td>...</td>\n      <td>...</td>\n      <td>...</td>\n      <td>...</td>\n      <td>...</td>\n    </tr>\n    <tr>\n      <th>608</th>\n      <td>2020-05-09 07:09:28.188</td>\n      <td>97355.0</td>\n      <td>97325.0</td>\n      <td>97360.0</td>\n      <td>97325.0</td>\n      <td>1.833</td>\n      <td>1.010</td>\n      <td>0.355259</td>\n      <td>NaN</td>\n      <td>97325.0</td>\n      <td>97325.0</td>\n      <td>97330.0</td>\n    </tr>\n    <tr>\n      <th>609</th>\n      <td>2020-05-09 07:09:57.129</td>\n      <td>97330.0</td>\n      <td>97300.0</td>\n      <td>97330.0</td>\n      <td>97300.0</td>\n      <td>1.514</td>\n      <td>0.091</td>\n      <td>0.056698</td>\n      <td>NaN</td>\n      <td>NaN</td>\n      <td>97295.0</td>\n      <td>97305.0</td>\n    </tr>\n    <tr>\n      <th>610</th>\n      <td>2020-05-09 07:10:03.501</td>\n      <td>97295.0</td>\n      <td>97285.0</td>\n      <td>97295.0</td>\n      <td>97285.0</td>\n      <td>1.544</td>\n      <td>0.000</td>\n      <td>0.000000</td>\n      <td>97290.0</td>\n      <td>NaN</td>\n      <td>97285.0</td>\n      <td>97290.0</td>\n    </tr>\n    <tr>\n      <th>611</th>\n      <td>2020-05-09 07:10:15.309</td>\n      <td>97285.0</td>\n      <td>97285.0</td>\n      <td>97290.0</td>\n      <td>97285.0</td>\n      <td>1.796</td>\n      <td>0.002</td>\n      <td>0.001112</td>\n      <td>NaN</td>\n      <td>NaN</td>\n      <td>97285.0</td>\n      <td>97290.0</td>\n    </tr>\n    <tr>\n      <th>612</th>\n      <td>2020-05-09 07:10:23.224</td>\n      <td>97305.0</td>\n      <td>97305.0</td>\n      <td>97305.0</td>\n      <td>97305.0</td>\n      <td>3.252</td>\n      <td>0.000</td>\n      <td>0.000000</td>\n      <td>NaN</td>\n      <td>NaN</td>\n      <td>97305.0</td>\n      <td>97310.0</td>\n    </tr>\n  </tbody>\n</table>\n<p>613 rows × 12 columns</p>\n</div>"
     },
     "execution_count": 23,
     "metadata": {},
     "output_type": "execute_result"
    }
   ],
   "source": [
    "bar.bar"
   ],
   "metadata": {
    "collapsed": false,
    "pycharm": {
     "name": "#%%\n"
    }
   }
  },
  {
   "cell_type": "code",
   "execution_count": 11,
   "outputs": [],
   "source": [],
   "metadata": {
    "collapsed": false,
    "pycharm": {
     "name": "#%%\n"
    }
   }
  }
 ],
 "metadata": {
  "kernelspec": {
   "display_name": "Python 3",
   "language": "python",
   "name": "python3"
  },
  "language_info": {
   "codemirror_mode": {
    "name": "ipython",
    "version": 2
   },
   "file_extension": ".py",
   "mimetype": "text/x-python",
   "name": "python",
   "nbconvert_exporter": "python",
   "pygments_lexer": "ipython2",
   "version": "2.7.6"
  }
 },
 "nbformat": 4,
 "nbformat_minor": 0
}