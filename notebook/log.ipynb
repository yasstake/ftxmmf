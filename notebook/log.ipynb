{
 "cells": [
  {
   "cell_type": "code",
   "execution_count": 11,
   "metadata": {
    "collapsed": true
   },
   "outputs": [],
   "source": [
    "from exchange.log import LogLoad"
   ]
  },
  {
   "cell_type": "code",
   "execution_count": 8,
   "outputs": [
    {
     "name": "stdout",
     "output_type": "stream",
     "text": [
      "../DATA/BB/05/BB-2020-05-09T06-16-23.367761Z.log.gz 2020050906-0522--2020050906-0533\n",
      "   action              time  sequence    price  volume  checksum\n",
      "0       1  1589004982636752         0      NaN     NaN       NaN\n",
      "1       3  1589004982636752         0  96020.0   0.025       NaN\n",
      "2       3  1589004982636752         1  96050.0   0.045       NaN\n",
      "3       3  1589004982636752         2  96060.0   4.100       NaN\n",
      "4       3  1589004982636752         3  96065.0   0.025       NaN\n"
     ]
    }
   ],
   "source": [
    "loader = LogLoad()\n",
    "\n",
    "loader.append('../DATA/BB/05/BB-2020-05-09T06-16-23.367761Z.log.gz')\n",
    "\n",
    "print(loader.log_data.head())"
   ],
   "metadata": {
    "collapsed": false,
    "pycharm": {
     "name": "#%%\n"
    }
   }
  },
  {
   "cell_type": "code",
   "execution_count": 10,
   "outputs": [
    {
     "data": {
      "text/plain": "Empty DataFrame\nColumns: [action, time, sequence, price, volume, checksum]\nIndex: []",
      "text/html": "<div>\n<style scoped>\n    .dataframe tbody tr th:only-of-type {\n        vertical-align: middle;\n    }\n\n    .dataframe tbody tr th {\n        vertical-align: top;\n    }\n\n    .dataframe thead th {\n        text-align: right;\n    }\n</style>\n<table border=\"1\" class=\"dataframe\">\n  <thead>\n    <tr style=\"text-align: right;\">\n      <th></th>\n      <th>action</th>\n      <th>time</th>\n      <th>sequence</th>\n      <th>price</th>\n      <th>volume</th>\n      <th>checksum</th>\n    </tr>\n  </thead>\n  <tbody>\n  </tbody>\n</table>\n</div>"
     },
     "execution_count": 10,
     "metadata": {},
     "output_type": "execute_result"
    }
   ],
   "source": [
    "loader.log_data\n",
    "loader.update_logs()\n",
    "\n",
    "loader.ask_log\n",
    "loader.bit_log\n",
    "\n",
    "\n"
   ],
   "metadata": {
    "collapsed": false,
    "pycharm": {
     "name": "#%%\n"
    }
   }
  }
 ],
 "metadata": {
  "kernelspec": {
   "display_name": "Python 3",
   "language": "python",
   "name": "python3"
  },
  "language_info": {
   "codemirror_mode": {
    "name": "ipython",
    "version": 2
   },
   "file_extension": ".py",
   "mimetype": "text/x-python",
   "name": "python",
   "nbconvert_exporter": "python",
   "pygments_lexer": "ipython2",
   "version": "2.7.6"
  }
 },
 "nbformat": 4,
 "nbformat_minor": 0
}