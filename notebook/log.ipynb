{
 "cells": [
  {
   "cell_type": "code",
   "execution_count": 11,
   "metadata": {
    "collapsed": true
   },
   "outputs": [],
   "source": [
    "from exchange.log import Trade"
   ]
  },
  {
   "cell_type": "code",
   "execution_count": 12,
   "outputs": [
    {
     "name": "stdout",
     "output_type": "stream",
     "text": [
      "../DATA/BB/05/BB-2020-05-09T06-16-23.367761Z.log.gz 2020050906-0522--2020050906-0533\n",
      "   action                       time  sequence    price  volume  checksum\n",
      "0       1 2020-05-09 06:16:22.636752         0      NaN     NaN       NaN\n",
      "1       3 2020-05-09 06:16:22.636752         0  96020.0   0.025       NaN\n",
      "2       3 2020-05-09 06:16:22.636752         1  96050.0   0.045       NaN\n",
      "3       3 2020-05-09 06:16:22.636752         2  96060.0   4.100       NaN\n",
      "4       3 2020-05-09 06:16:22.636752         3  96065.0   0.025       NaN\n"
     ]
    }
   ],
   "source": [
    "loader = Trade()\n",
    "\n",
    "loader.append('../DATA/BB/05/BB-2020-05-09T06-16-23.367761Z.log.gz')\n",
    "\n",
    "print(loader.log_data.head())"
   ],
   "metadata": {
    "collapsed": false,
    "pycharm": {
     "name": "#%%\n"
    }
   }
  },
  {
   "cell_type": "code",
   "execution_count": 13,
   "outputs": [
    {
     "data": {
      "text/plain": "      action                       time  sequence    price     volume  \\\n0          1 2020-05-09 06:16:22.636752         0      NaN        NaN   \n201        2 2020-05-09 06:16:22.636752         0  98200.0  14.272000   \n202        2 2020-05-09 06:16:22.636752         1  98205.0  13.129999   \n203        2 2020-05-09 06:16:22.636752         2  98210.0  14.570000   \n204        2 2020-05-09 06:16:22.636752         3  98215.0   7.640000   \n...      ...                        ...       ...      ...        ...   \n1855       2 2020-05-09 06:19:30.735370         0  98085.0  17.300000   \n1856       2 2020-05-09 06:19:30.835358         0  98085.0  17.100000   \n1857       2 2020-05-09 06:19:32.035360         0  98180.0   3.180000   \n1858       2 2020-05-09 06:19:33.735357         0  98190.0   1.126000   \n1859       2 2020-05-09 06:19:33.935403         0  98085.0  16.700000   \n\n      checksum  \n0          NaN  \n201        NaN  \n202        NaN  \n203        NaN  \n204        NaN  \n...        ...  \n1855       NaN  \n1856       NaN  \n1857       NaN  \n1858       NaN  \n1859       NaN  \n\n[949 rows x 6 columns]",
      "text/html": "<div>\n<style scoped>\n    .dataframe tbody tr th:only-of-type {\n        vertical-align: middle;\n    }\n\n    .dataframe tbody tr th {\n        vertical-align: top;\n    }\n\n    .dataframe thead th {\n        text-align: right;\n    }\n</style>\n<table border=\"1\" class=\"dataframe\">\n  <thead>\n    <tr style=\"text-align: right;\">\n      <th></th>\n      <th>action</th>\n      <th>time</th>\n      <th>sequence</th>\n      <th>price</th>\n      <th>volume</th>\n      <th>checksum</th>\n    </tr>\n  </thead>\n  <tbody>\n    <tr>\n      <th>0</th>\n      <td>1</td>\n      <td>2020-05-09 06:16:22.636752</td>\n      <td>0</td>\n      <td>NaN</td>\n      <td>NaN</td>\n      <td>NaN</td>\n    </tr>\n    <tr>\n      <th>201</th>\n      <td>2</td>\n      <td>2020-05-09 06:16:22.636752</td>\n      <td>0</td>\n      <td>98200.0</td>\n      <td>14.272000</td>\n      <td>NaN</td>\n    </tr>\n    <tr>\n      <th>202</th>\n      <td>2</td>\n      <td>2020-05-09 06:16:22.636752</td>\n      <td>1</td>\n      <td>98205.0</td>\n      <td>13.129999</td>\n      <td>NaN</td>\n    </tr>\n    <tr>\n      <th>203</th>\n      <td>2</td>\n      <td>2020-05-09 06:16:22.636752</td>\n      <td>2</td>\n      <td>98210.0</td>\n      <td>14.570000</td>\n      <td>NaN</td>\n    </tr>\n    <tr>\n      <th>204</th>\n      <td>2</td>\n      <td>2020-05-09 06:16:22.636752</td>\n      <td>3</td>\n      <td>98215.0</td>\n      <td>7.640000</td>\n      <td>NaN</td>\n    </tr>\n    <tr>\n      <th>...</th>\n      <td>...</td>\n      <td>...</td>\n      <td>...</td>\n      <td>...</td>\n      <td>...</td>\n      <td>...</td>\n    </tr>\n    <tr>\n      <th>1855</th>\n      <td>2</td>\n      <td>2020-05-09 06:19:30.735370</td>\n      <td>0</td>\n      <td>98085.0</td>\n      <td>17.300000</td>\n      <td>NaN</td>\n    </tr>\n    <tr>\n      <th>1856</th>\n      <td>2</td>\n      <td>2020-05-09 06:19:30.835358</td>\n      <td>0</td>\n      <td>98085.0</td>\n      <td>17.100000</td>\n      <td>NaN</td>\n    </tr>\n    <tr>\n      <th>1857</th>\n      <td>2</td>\n      <td>2020-05-09 06:19:32.035360</td>\n      <td>0</td>\n      <td>98180.0</td>\n      <td>3.180000</td>\n      <td>NaN</td>\n    </tr>\n    <tr>\n      <th>1858</th>\n      <td>2</td>\n      <td>2020-05-09 06:19:33.735357</td>\n      <td>0</td>\n      <td>98190.0</td>\n      <td>1.126000</td>\n      <td>NaN</td>\n    </tr>\n    <tr>\n      <th>1859</th>\n      <td>2</td>\n      <td>2020-05-09 06:19:33.935403</td>\n      <td>0</td>\n      <td>98085.0</td>\n      <td>16.700000</td>\n      <td>NaN</td>\n    </tr>\n  </tbody>\n</table>\n<p>949 rows × 6 columns</p>\n</div>"
     },
     "execution_count": 13,
     "metadata": {},
     "output_type": "execute_result"
    }
   ],
   "source": [
    "loader.log_data\n",
    "loader.update_logs()\n",
    "\n",
    "loader.ask_log\n",
    "loader.bit_log\n",
    "\n"
   ],
   "metadata": {
    "collapsed": false,
    "pycharm": {
     "name": "#%%\n"
    }
   }
  },
  {
   "cell_type": "code",
   "execution_count": null,
   "outputs": [],
   "source": [],
   "metadata": {
    "collapsed": false,
    "pycharm": {
     "name": "#%%\n"
    }
   }
  }
 ],
 "metadata": {
  "kernelspec": {
   "display_name": "Python 3",
   "language": "python",
   "name": "python3"
  },
  "language_info": {
   "codemirror_mode": {
    "name": "ipython",
    "version": 2
   },
   "file_extension": ".py",
   "mimetype": "text/x-python",
   "name": "python",
   "nbconvert_exporter": "python",
   "pygments_lexer": "ipython2",
   "version": "2.7.6"
  }
 },
 "nbformat": 4,
 "nbformat_minor": 0
}