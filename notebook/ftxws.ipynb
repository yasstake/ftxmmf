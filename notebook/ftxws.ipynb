{
 "cells": [
  {
   "cell_type": "markdown",
   "metadata": {
    "collapsed": true,
    "pycharm": {
     "name": "#%% md\n"
    }
   },
   "source": [
    "# log file format\n",
    "\n",
    "### line\n",
    "\n",
    "action, unix_time[us], index, price[10cent], size[BTC], checksum[crc32]\n"
   ]
  },
  {
   "cell_type": "code",
   "source": [
    "class Action:\n",
    "    # board\n",
    "    PARTIAL = 1\n",
    "    UPDATE_BIT = 2\n",
    "    UPDATE_ASK = 3\n",
    "\n",
    "    # trade\n",
    "    TRADE_LONG = 4\n",
    "    TRADE_LONG_LIQUID = 5\n",
    "\n",
    "    TRADE_SHORT = 6\n",
    "    TRADE_SHORT_LIQUID = 7"
   ],
   "metadata": {
    "collapsed": false,
    "pycharm": {
     "name": "#%% md[python]\n"
    }
   },
   "execution_count": null,
   "outputs": []
  }
 ],
 "metadata": {
  "kernelspec": {
   "display_name": "Python 3",
   "language": "python",
   "name": "python3"
  },
  "language_info": {
   "codemirror_mode": {
    "name": "ipython",
    "version": 2
   },
   "file_extension": ".py",
   "mimetype": "text/x-python",
   "name": "python",
   "nbconvert_exporter": "python",
   "pygments_lexer": "ipython2",
   "version": "2.7.6"
  }
 },
 "nbformat": 4,
 "nbformat_minor": 0
}