{
 "cells": [
  {
   "cell_type": "code",
   "execution_count": 1,
   "metadata": {
    "collapsed": true
   },
   "outputs": [],
   "source": [
    "from exchange.board import *\n",
    "\n",
    "history = load_file('../DATA/MERGE.log.gz')\n"
   ]
  },
  {
   "cell_type": "code",
   "execution_count": 2,
   "outputs": [
    {
     "name": "stdout",
     "output_type": "stream",
     "text": [
      "                     time_stamp       open      close       high        low\n",
      "time                                                                       \n",
      "0    2020-05-05 00:00:06.570557  9644590.0  9644950.0  9645950.0  9642300.0\n",
      "1    2020-05-05 00:00:07.010153  9645000.0  9645990.0  9646370.0  9644870.0\n",
      "2    2020-05-05 00:00:07.260147  9646240.0  9645000.0  9647860.0  9645000.0\n",
      "3    2020-05-05 00:00:07.937494  9645000.0  9649050.0  9649050.0  9643610.0\n",
      "4    2020-05-05 00:00:09.162721  9646990.0  9649980.0  9649980.0  9646570.0\n",
      "...                         ...        ...        ...        ...        ...\n",
      "7437 2020-05-05 05:25:09.329855  9856390.0  9856760.0  9858240.0  9855330.0\n",
      "7438 2020-05-05 05:25:10.268643  9856760.0  9855330.0  9857810.0  9855330.0\n",
      "7439 2020-05-05 05:25:10.691612  9855330.0  9857480.0  9857480.0  9855330.0\n",
      "7440 2020-05-05 05:25:12.455211  9857500.0  9857340.0  9858000.0  9855510.0\n",
      "7441 2020-05-05 05:25:16.989434  9857360.0  9857520.0  9857520.0  9855330.0\n",
      "\n",
      "[7442 rows x 5 columns]\n"
     ]
    }
   ],
   "source": [
    "df = history.dollar_bar()\n",
    "\n"
   ],
   "metadata": {
    "collapsed": false,
    "pycharm": {
     "name": "#%%\n"
    }
   }
  },
  {
   "cell_type": "code",
   "execution_count": 3,
   "outputs": [
    {
     "data": {
      "text/plain": "                     time_stamp       open      close       high        low\ntime                                                                       \n0    2020-05-05 00:00:06.570557  9644590.0  9644950.0  9645950.0  9642300.0\n1    2020-05-05 00:00:07.010153  9645000.0  9645990.0  9646370.0  9644870.0\n2    2020-05-05 00:00:07.260147  9646240.0  9645000.0  9647860.0  9645000.0\n3    2020-05-05 00:00:07.937494  9645000.0  9649050.0  9649050.0  9643610.0\n4    2020-05-05 00:00:09.162721  9646990.0  9649980.0  9649980.0  9646570.0\n...                         ...        ...        ...        ...        ...\n7437 2020-05-05 05:25:09.329855  9856390.0  9856760.0  9858240.0  9855330.0\n7438 2020-05-05 05:25:10.268643  9856760.0  9855330.0  9857810.0  9855330.0\n7439 2020-05-05 05:25:10.691612  9855330.0  9857480.0  9857480.0  9855330.0\n7440 2020-05-05 05:25:12.455211  9857500.0  9857340.0  9858000.0  9855510.0\n7441 2020-05-05 05:25:16.989434  9857360.0  9857520.0  9857520.0  9855330.0\n\n[7442 rows x 5 columns]",
      "text/html": "<div>\n<style scoped>\n    .dataframe tbody tr th:only-of-type {\n        vertical-align: middle;\n    }\n\n    .dataframe tbody tr th {\n        vertical-align: top;\n    }\n\n    .dataframe thead th {\n        text-align: right;\n    }\n</style>\n<table border=\"1\" class=\"dataframe\">\n  <thead>\n    <tr style=\"text-align: right;\">\n      <th></th>\n      <th>time_stamp</th>\n      <th>open</th>\n      <th>close</th>\n      <th>high</th>\n      <th>low</th>\n    </tr>\n    <tr>\n      <th>time</th>\n      <th></th>\n      <th></th>\n      <th></th>\n      <th></th>\n      <th></th>\n    </tr>\n  </thead>\n  <tbody>\n    <tr>\n      <th>0</th>\n      <td>2020-05-05 00:00:06.570557</td>\n      <td>9644590.0</td>\n      <td>9644950.0</td>\n      <td>9645950.0</td>\n      <td>9642300.0</td>\n    </tr>\n    <tr>\n      <th>1</th>\n      <td>2020-05-05 00:00:07.010153</td>\n      <td>9645000.0</td>\n      <td>9645990.0</td>\n      <td>9646370.0</td>\n      <td>9644870.0</td>\n    </tr>\n    <tr>\n      <th>2</th>\n      <td>2020-05-05 00:00:07.260147</td>\n      <td>9646240.0</td>\n      <td>9645000.0</td>\n      <td>9647860.0</td>\n      <td>9645000.0</td>\n    </tr>\n    <tr>\n      <th>3</th>\n      <td>2020-05-05 00:00:07.937494</td>\n      <td>9645000.0</td>\n      <td>9649050.0</td>\n      <td>9649050.0</td>\n      <td>9643610.0</td>\n    </tr>\n    <tr>\n      <th>4</th>\n      <td>2020-05-05 00:00:09.162721</td>\n      <td>9646990.0</td>\n      <td>9649980.0</td>\n      <td>9649980.0</td>\n      <td>9646570.0</td>\n    </tr>\n    <tr>\n      <th>...</th>\n      <td>...</td>\n      <td>...</td>\n      <td>...</td>\n      <td>...</td>\n      <td>...</td>\n    </tr>\n    <tr>\n      <th>7437</th>\n      <td>2020-05-05 05:25:09.329855</td>\n      <td>9856390.0</td>\n      <td>9856760.0</td>\n      <td>9858240.0</td>\n      <td>9855330.0</td>\n    </tr>\n    <tr>\n      <th>7438</th>\n      <td>2020-05-05 05:25:10.268643</td>\n      <td>9856760.0</td>\n      <td>9855330.0</td>\n      <td>9857810.0</td>\n      <td>9855330.0</td>\n    </tr>\n    <tr>\n      <th>7439</th>\n      <td>2020-05-05 05:25:10.691612</td>\n      <td>9855330.0</td>\n      <td>9857480.0</td>\n      <td>9857480.0</td>\n      <td>9855330.0</td>\n    </tr>\n    <tr>\n      <th>7440</th>\n      <td>2020-05-05 05:25:12.455211</td>\n      <td>9857500.0</td>\n      <td>9857340.0</td>\n      <td>9858000.0</td>\n      <td>9855510.0</td>\n    </tr>\n    <tr>\n      <th>7441</th>\n      <td>2020-05-05 05:25:16.989434</td>\n      <td>9857360.0</td>\n      <td>9857520.0</td>\n      <td>9857520.0</td>\n      <td>9855330.0</td>\n    </tr>\n  </tbody>\n</table>\n<p>7442 rows × 5 columns</p>\n</div>"
     },
     "execution_count": 3,
     "metadata": {},
     "output_type": "execute_result"
    }
   ],
   "source": [
    "df\n"
   ],
   "metadata": {
    "collapsed": false,
    "pycharm": {
     "name": "#%%\n"
    }
   }
  },
  {
   "cell_type": "code",
   "execution_count": 4,
   "outputs": [],
   "source": [
    "df.columns = ['time', 'open', 'close', 'high', 'low']\n"
   ],
   "metadata": {
    "collapsed": false,
    "pycharm": {
     "name": "#%%\n"
    }
   }
  },
  {
   "cell_type": "code",
   "execution_count": 5,
   "outputs": [
    {
     "data": {
      "text/plain": "                           time       open      close       high        low\n0    2020-05-05 00:00:06.570557  9644590.0  9644950.0  9645950.0  9642300.0\n1    2020-05-05 00:00:07.010153  9645000.0  9645990.0  9646370.0  9644870.0\n2    2020-05-05 00:00:07.260147  9646240.0  9645000.0  9647860.0  9645000.0\n3    2020-05-05 00:00:07.937494  9645000.0  9649050.0  9649050.0  9643610.0\n4    2020-05-05 00:00:09.162721  9646990.0  9649980.0  9649980.0  9646570.0\n...                         ...        ...        ...        ...        ...\n7437 2020-05-05 05:25:09.329855  9856390.0  9856760.0  9858240.0  9855330.0\n7438 2020-05-05 05:25:10.268643  9856760.0  9855330.0  9857810.0  9855330.0\n7439 2020-05-05 05:25:10.691612  9855330.0  9857480.0  9857480.0  9855330.0\n7440 2020-05-05 05:25:12.455211  9857500.0  9857340.0  9858000.0  9855510.0\n7441 2020-05-05 05:25:16.989434  9857360.0  9857520.0  9857520.0  9855330.0\n\n[7442 rows x 5 columns]",
      "text/html": "<div>\n<style scoped>\n    .dataframe tbody tr th:only-of-type {\n        vertical-align: middle;\n    }\n\n    .dataframe tbody tr th {\n        vertical-align: top;\n    }\n\n    .dataframe thead th {\n        text-align: right;\n    }\n</style>\n<table border=\"1\" class=\"dataframe\">\n  <thead>\n    <tr style=\"text-align: right;\">\n      <th></th>\n      <th>time</th>\n      <th>open</th>\n      <th>close</th>\n      <th>high</th>\n      <th>low</th>\n    </tr>\n  </thead>\n  <tbody>\n    <tr>\n      <th>0</th>\n      <td>2020-05-05 00:00:06.570557</td>\n      <td>9644590.0</td>\n      <td>9644950.0</td>\n      <td>9645950.0</td>\n      <td>9642300.0</td>\n    </tr>\n    <tr>\n      <th>1</th>\n      <td>2020-05-05 00:00:07.010153</td>\n      <td>9645000.0</td>\n      <td>9645990.0</td>\n      <td>9646370.0</td>\n      <td>9644870.0</td>\n    </tr>\n    <tr>\n      <th>2</th>\n      <td>2020-05-05 00:00:07.260147</td>\n      <td>9646240.0</td>\n      <td>9645000.0</td>\n      <td>9647860.0</td>\n      <td>9645000.0</td>\n    </tr>\n    <tr>\n      <th>3</th>\n      <td>2020-05-05 00:00:07.937494</td>\n      <td>9645000.0</td>\n      <td>9649050.0</td>\n      <td>9649050.0</td>\n      <td>9643610.0</td>\n    </tr>\n    <tr>\n      <th>4</th>\n      <td>2020-05-05 00:00:09.162721</td>\n      <td>9646990.0</td>\n      <td>9649980.0</td>\n      <td>9649980.0</td>\n      <td>9646570.0</td>\n    </tr>\n    <tr>\n      <th>...</th>\n      <td>...</td>\n      <td>...</td>\n      <td>...</td>\n      <td>...</td>\n      <td>...</td>\n    </tr>\n    <tr>\n      <th>7437</th>\n      <td>2020-05-05 05:25:09.329855</td>\n      <td>9856390.0</td>\n      <td>9856760.0</td>\n      <td>9858240.0</td>\n      <td>9855330.0</td>\n    </tr>\n    <tr>\n      <th>7438</th>\n      <td>2020-05-05 05:25:10.268643</td>\n      <td>9856760.0</td>\n      <td>9855330.0</td>\n      <td>9857810.0</td>\n      <td>9855330.0</td>\n    </tr>\n    <tr>\n      <th>7439</th>\n      <td>2020-05-05 05:25:10.691612</td>\n      <td>9855330.0</td>\n      <td>9857480.0</td>\n      <td>9857480.0</td>\n      <td>9855330.0</td>\n    </tr>\n    <tr>\n      <th>7440</th>\n      <td>2020-05-05 05:25:12.455211</td>\n      <td>9857500.0</td>\n      <td>9857340.0</td>\n      <td>9858000.0</td>\n      <td>9855510.0</td>\n    </tr>\n    <tr>\n      <th>7441</th>\n      <td>2020-05-05 05:25:16.989434</td>\n      <td>9857360.0</td>\n      <td>9857520.0</td>\n      <td>9857520.0</td>\n      <td>9855330.0</td>\n    </tr>\n  </tbody>\n</table>\n<p>7442 rows × 5 columns</p>\n</div>"
     },
     "execution_count": 5,
     "metadata": {},
     "output_type": "execute_result"
    }
   ],
   "source": [
    "df"
   ],
   "metadata": {
    "collapsed": false,
    "pycharm": {
     "name": "#%%\n"
    }
   }
  },
  {
   "cell_type": "code",
   "execution_count": 6,
   "outputs": [
    {
     "data": {
      "text/plain": "           open       high        low      close\ntime                                            \n0     9644590.0  9645950.0  9642300.0  9644950.0\n1     9645000.0  9646370.0  9644870.0  9645990.0\n2     9646240.0  9647860.0  9645000.0  9645000.0\n3     9645000.0  9649050.0  9643610.0  9649050.0\n4     9646990.0  9649980.0  9646570.0  9649980.0\n...         ...        ...        ...        ...\n7437  9856390.0  9858240.0  9855330.0  9856760.0\n7438  9856760.0  9857810.0  9855330.0  9855330.0\n7439  9855330.0  9857480.0  9855330.0  9857480.0\n7440  9857500.0  9858000.0  9855510.0  9857340.0\n7441  9857360.0  9857520.0  9855330.0  9857520.0\n\n[7442 rows x 4 columns]",
      "text/html": "<div>\n<style scoped>\n    .dataframe tbody tr th:only-of-type {\n        vertical-align: middle;\n    }\n\n    .dataframe tbody tr th {\n        vertical-align: top;\n    }\n\n    .dataframe thead th {\n        text-align: right;\n    }\n</style>\n<table border=\"1\" class=\"dataframe\">\n  <thead>\n    <tr style=\"text-align: right;\">\n      <th></th>\n      <th>open</th>\n      <th>high</th>\n      <th>low</th>\n      <th>close</th>\n    </tr>\n    <tr>\n      <th>time</th>\n      <th></th>\n      <th></th>\n      <th></th>\n      <th></th>\n    </tr>\n  </thead>\n  <tbody>\n    <tr>\n      <th>0</th>\n      <td>9644590.0</td>\n      <td>9645950.0</td>\n      <td>9642300.0</td>\n      <td>9644950.0</td>\n    </tr>\n    <tr>\n      <th>1</th>\n      <td>9645000.0</td>\n      <td>9646370.0</td>\n      <td>9644870.0</td>\n      <td>9645990.0</td>\n    </tr>\n    <tr>\n      <th>2</th>\n      <td>9646240.0</td>\n      <td>9647860.0</td>\n      <td>9645000.0</td>\n      <td>9645000.0</td>\n    </tr>\n    <tr>\n      <th>3</th>\n      <td>9645000.0</td>\n      <td>9649050.0</td>\n      <td>9643610.0</td>\n      <td>9649050.0</td>\n    </tr>\n    <tr>\n      <th>4</th>\n      <td>9646990.0</td>\n      <td>9649980.0</td>\n      <td>9646570.0</td>\n      <td>9649980.0</td>\n    </tr>\n    <tr>\n      <th>...</th>\n      <td>...</td>\n      <td>...</td>\n      <td>...</td>\n      <td>...</td>\n    </tr>\n    <tr>\n      <th>7437</th>\n      <td>9856390.0</td>\n      <td>9858240.0</td>\n      <td>9855330.0</td>\n      <td>9856760.0</td>\n    </tr>\n    <tr>\n      <th>7438</th>\n      <td>9856760.0</td>\n      <td>9857810.0</td>\n      <td>9855330.0</td>\n      <td>9855330.0</td>\n    </tr>\n    <tr>\n      <th>7439</th>\n      <td>9855330.0</td>\n      <td>9857480.0</td>\n      <td>9855330.0</td>\n      <td>9857480.0</td>\n    </tr>\n    <tr>\n      <th>7440</th>\n      <td>9857500.0</td>\n      <td>9858000.0</td>\n      <td>9855510.0</td>\n      <td>9857340.0</td>\n    </tr>\n    <tr>\n      <th>7441</th>\n      <td>9857360.0</td>\n      <td>9857520.0</td>\n      <td>9855330.0</td>\n      <td>9857520.0</td>\n    </tr>\n  </tbody>\n</table>\n<p>7442 rows × 4 columns</p>\n</div>"
     },
     "execution_count": 6,
     "metadata": {},
     "output_type": "execute_result"
    }
   ],
   "source": [
    "df = df[['open', 'high', 'low', 'close']]\n",
    "df.index.name = 'time'\n",
    "df"
   ],
   "metadata": {
    "collapsed": false,
    "pycharm": {
     "name": "#%%\n"
    }
   }
  },
  {
   "cell_type": "code",
   "execution_count": 6,
   "outputs": [],
   "source": [
    "\n",
    "\n"
   ],
   "metadata": {
    "collapsed": false,
    "pycharm": {
     "name": "#%%\n"
    }
   }
  }
 ],
 "metadata": {
  "kernelspec": {
   "display_name": "Python 3",
   "language": "python",
   "name": "python3"
  },
  "language_info": {
   "codemirror_mode": {
    "name": "ipython",
    "version": 2
   },
   "file_extension": ".py",
   "mimetype": "text/x-python",
   "name": "python",
   "nbconvert_exporter": "python",
   "pygments_lexer": "ipython2",
   "version": "2.7.6"
  }
 },
 "nbformat": 4,
 "nbformat_minor": 0
}