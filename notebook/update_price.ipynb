{
 "cells": [
  {
   "cell_type": "code",
   "execution_count": 1,
   "metadata": {
    "collapsed": true
   },
   "outputs": [],
   "source": [
    "import pandas as pd\n",
    "import statsmodels.formula.api as smf\n",
    "from exchange.board import *\n",
    "from exchange.board import _chop_log_data\n",
    "\n",
    "history = load_file('../MERGE-2020-05-04.log.gz')\n",
    "history.setup_dollar_bar()\n",
    "df = history.dollar_bar"
   ]
  },
  {
   "cell_type": "code",
   "execution_count": 2,
   "outputs": [],
   "source": [
    "history.update_price()"
   ],
   "metadata": {
    "collapsed": false,
    "pycharm": {
     "name": "#%%\n"
    }
   }
  },
  {
   "cell_type": "code",
   "execution_count": 3,
   "outputs": [
    {
     "data": {
      "text/plain": "                     time_stamp     open    close     high      low  \\\ntime                                                                  \n0    2020-05-04 23:44:51.472187  9610530  9612920  9612920  9610380   \n1    2020-05-04 23:44:55.301343  9612930  9611000  9613470  9611000   \n2    2020-05-04 23:44:56.506780  9610990  9610010  9611970  9610010   \n3    2020-05-04 23:44:58.552715  9610010  9610120  9611070  9610000   \n4    2020-05-04 23:45:00.628893  9610000  9613640  9613640  9610000   \n...                         ...      ...      ...      ...      ...   \n307  2020-05-04 23:59:55.017204  9635440  9638790  9638790  9635320   \n308  2020-05-04 23:59:55.963804  9638850  9638960  9639170  9637360   \n309  2020-05-04 23:59:57.000452  9638960  9639160  9639600  9638340   \n310  2020-05-04 23:59:57.535987  9639090  9642060  9642060  9638710   \n311  2020-05-05 00:00:01.766509  9642060  9641870  9642080  9639330   \n\n      market_buy  market_sell  limit_buy  limit_sell  \ntime                                                  \n0      9612100.0    9610130.0  9610130.0   9611910.0  \n1      9611970.0    9611180.0  9611330.0   9611970.0  \n2      9611970.0    9610090.0  9610100.0   9611970.0  \n3      9610460.0    9609990.0  9609990.0   9610000.0  \n4      9613530.0    9611420.0  9611650.0         NaN  \n...          ...          ...        ...         ...  \n307    9635970.0    9635060.0        NaN   9635970.0  \n308    9638960.0    9637360.0        NaN   9638960.0  \n309    9638690.0    9637360.0        NaN   9638690.0  \n310    9642140.0    9640130.0  9640130.0         NaN  \n311    9641870.0    9639950.0        NaN         NaN  \n\n[312 rows x 9 columns]",
      "text/html": "<div>\n<style scoped>\n    .dataframe tbody tr th:only-of-type {\n        vertical-align: middle;\n    }\n\n    .dataframe tbody tr th {\n        vertical-align: top;\n    }\n\n    .dataframe thead th {\n        text-align: right;\n    }\n</style>\n<table border=\"1\" class=\"dataframe\">\n  <thead>\n    <tr style=\"text-align: right;\">\n      <th></th>\n      <th>time_stamp</th>\n      <th>open</th>\n      <th>close</th>\n      <th>high</th>\n      <th>low</th>\n      <th>market_buy</th>\n      <th>market_sell</th>\n      <th>limit_buy</th>\n      <th>limit_sell</th>\n    </tr>\n    <tr>\n      <th>time</th>\n      <th></th>\n      <th></th>\n      <th></th>\n      <th></th>\n      <th></th>\n      <th></th>\n      <th></th>\n      <th></th>\n      <th></th>\n    </tr>\n  </thead>\n  <tbody>\n    <tr>\n      <th>0</th>\n      <td>2020-05-04 23:44:51.472187</td>\n      <td>9610530</td>\n      <td>9612920</td>\n      <td>9612920</td>\n      <td>9610380</td>\n      <td>9612100.0</td>\n      <td>9610130.0</td>\n      <td>9610130.0</td>\n      <td>9611910.0</td>\n    </tr>\n    <tr>\n      <th>1</th>\n      <td>2020-05-04 23:44:55.301343</td>\n      <td>9612930</td>\n      <td>9611000</td>\n      <td>9613470</td>\n      <td>9611000</td>\n      <td>9611970.0</td>\n      <td>9611180.0</td>\n      <td>9611330.0</td>\n      <td>9611970.0</td>\n    </tr>\n    <tr>\n      <th>2</th>\n      <td>2020-05-04 23:44:56.506780</td>\n      <td>9610990</td>\n      <td>9610010</td>\n      <td>9611970</td>\n      <td>9610010</td>\n      <td>9611970.0</td>\n      <td>9610090.0</td>\n      <td>9610100.0</td>\n      <td>9611970.0</td>\n    </tr>\n    <tr>\n      <th>3</th>\n      <td>2020-05-04 23:44:58.552715</td>\n      <td>9610010</td>\n      <td>9610120</td>\n      <td>9611070</td>\n      <td>9610000</td>\n      <td>9610460.0</td>\n      <td>9609990.0</td>\n      <td>9609990.0</td>\n      <td>9610000.0</td>\n    </tr>\n    <tr>\n      <th>4</th>\n      <td>2020-05-04 23:45:00.628893</td>\n      <td>9610000</td>\n      <td>9613640</td>\n      <td>9613640</td>\n      <td>9610000</td>\n      <td>9613530.0</td>\n      <td>9611420.0</td>\n      <td>9611650.0</td>\n      <td>NaN</td>\n    </tr>\n    <tr>\n      <th>...</th>\n      <td>...</td>\n      <td>...</td>\n      <td>...</td>\n      <td>...</td>\n      <td>...</td>\n      <td>...</td>\n      <td>...</td>\n      <td>...</td>\n      <td>...</td>\n    </tr>\n    <tr>\n      <th>307</th>\n      <td>2020-05-04 23:59:55.017204</td>\n      <td>9635440</td>\n      <td>9638790</td>\n      <td>9638790</td>\n      <td>9635320</td>\n      <td>9635970.0</td>\n      <td>9635060.0</td>\n      <td>NaN</td>\n      <td>9635970.0</td>\n    </tr>\n    <tr>\n      <th>308</th>\n      <td>2020-05-04 23:59:55.963804</td>\n      <td>9638850</td>\n      <td>9638960</td>\n      <td>9639170</td>\n      <td>9637360</td>\n      <td>9638960.0</td>\n      <td>9637360.0</td>\n      <td>NaN</td>\n      <td>9638960.0</td>\n    </tr>\n    <tr>\n      <th>309</th>\n      <td>2020-05-04 23:59:57.000452</td>\n      <td>9638960</td>\n      <td>9639160</td>\n      <td>9639600</td>\n      <td>9638340</td>\n      <td>9638690.0</td>\n      <td>9637360.0</td>\n      <td>NaN</td>\n      <td>9638690.0</td>\n    </tr>\n    <tr>\n      <th>310</th>\n      <td>2020-05-04 23:59:57.535987</td>\n      <td>9639090</td>\n      <td>9642060</td>\n      <td>9642060</td>\n      <td>9638710</td>\n      <td>9642140.0</td>\n      <td>9640130.0</td>\n      <td>9640130.0</td>\n      <td>NaN</td>\n    </tr>\n    <tr>\n      <th>311</th>\n      <td>2020-05-05 00:00:01.766509</td>\n      <td>9642060</td>\n      <td>9641870</td>\n      <td>9642080</td>\n      <td>9639330</td>\n      <td>9641870.0</td>\n      <td>9639950.0</td>\n      <td>NaN</td>\n      <td>NaN</td>\n    </tr>\n  </tbody>\n</table>\n<p>312 rows × 9 columns</p>\n</div>"
     },
     "execution_count": 3,
     "metadata": {},
     "output_type": "execute_result"
    }
   ],
   "source": [
    "history.dollar_bar"
   ],
   "metadata": {
    "collapsed": false,
    "pycharm": {
     "name": "#%%\n"
    }
   }
  },
  {
   "cell_type": "code",
   "execution_count": 4,
   "outputs": [
    {
     "name": "stdout",
     "output_type": "stream",
     "text": [
      "9603620.0\n",
      "9611970.0\n"
     ]
    }
   ],
   "source": [
    "df = _chop_log_data(history.dollar_bar, start=history.start_time, end=history.start_time + pd.Timedelta(seconds=60), time_key='time_stamp')\n",
    "\n",
    "print(df.min()['limit_buy'])\n",
    "print(df.max()['limit_sell'])"
   ],
   "metadata": {
    "collapsed": false,
    "pycharm": {
     "name": "#%%\n"
    }
   }
  },
  {
   "cell_type": "code",
   "execution_count": 4,
   "outputs": [],
   "source": [],
   "metadata": {
    "collapsed": false,
    "pycharm": {
     "name": "#%%\n"
    }
   }
  },
  {
   "cell_type": "code",
   "execution_count": 7,
   "outputs": [
    {
     "data": {
      "text/plain": "(11970.0, 2170.0, 9850.0, -40.0)"
     },
     "execution_count": 7,
     "metadata": {},
     "output_type": "execute_result"
    }
   ],
   "source": [
    "r = history._calc_q_value(history.dollar_bar.iloc[100])\n",
    "\n",
    "r"
   ],
   "metadata": {
    "collapsed": false,
    "pycharm": {
     "name": "#%%\n"
    }
   }
  },
  {
   "cell_type": "code",
   "execution_count": 39,
   "outputs": [],
   "source": [
    "def update_price(time):\n",
    "    market_prices = history.market_price(time)\n",
    "    limit_prices = history.limit_price(time, window=5)\n",
    "    return pd.Series([market_prices[0], market_prices[1], \\\n",
    "            limit_prices[0], limit_prices[1]])"
   ],
   "metadata": {
    "collapsed": false,
    "pycharm": {
     "name": "#%%\n"
    }
   }
  },
  {
   "cell_type": "code",
   "execution_count": null,
   "outputs": [],
   "source": [
    "TAKER_FEE = 0.15 / 100\n",
    "MAKER_FEE = 0.75 / 100\n",
    "\n",
    "def taker_fee(price):\n",
    "    return price * TAKER_FEE\n",
    "\n",
    "def maker_fee(price):\n",
    "    return price * MAKER_FEE\n",
    "\n",
    "def update_q_value(row):\n",
    "    '''\n",
    "    use this function as df.apply(upadte_q_value, axis=1)\n",
    "    :param row:\n",
    "    :return:\n",
    "    '''\n",
    "    time_stamp = row['time_stamp']\n",
    "\n",
    "    market_buy = row['market_buy']\n",
    "    market_sell = row['market_sell']\n",
    "    limit_buy = row['limit_buy']\n",
    "    limit_sell = row['limit_sell']\n",
    "\n",
    "\n",
    "\n",
    "\n",
    "\n",
    "\n",
    "\n",
    "\n",
    "\n"
   ],
   "metadata": {
    "collapsed": false,
    "pycharm": {
     "name": "#%%\n"
    }
   }
  },
  {
   "cell_type": "code",
   "execution_count": 40,
   "outputs": [
    {
     "data": {
      "text/plain": "                     time_stamp     open    close     high      low  \\\ntime                                                                  \n0    2020-05-04 23:44:51.472187  9610530  9612920  9612920  9610380   \n1    2020-05-04 23:44:55.301343  9612930  9611000  9613470  9611000   \n2    2020-05-04 23:44:56.506780  9610990  9610010  9611970  9610010   \n3    2020-05-04 23:44:58.552715  9610010  9610120  9611070  9610000   \n4    2020-05-04 23:45:00.628893  9610000  9613640  9613640  9610000   \n...                         ...      ...      ...      ...      ...   \n307  2020-05-04 23:59:55.017204  9635440  9638790  9638790  9635320   \n308  2020-05-04 23:59:55.963804  9638850  9638960  9639170  9637360   \n309  2020-05-04 23:59:57.000452  9638960  9639160  9639600  9638340   \n310  2020-05-04 23:59:57.535987  9639090  9642060  9642060  9638710   \n311  2020-05-05 00:00:01.766509  9642060  9641870  9642080  9639330   \n\n      bit_price  ask_price  long_price  short_price  market_buy  market_sell  \\\ntime                                                                           \n0     9612100.0  9610130.0         NaN    9611910.0   9612100.0    9610130.0   \n1     9611970.0  9611180.0   9611330.0          NaN   9611970.0    9611180.0   \n2     9611970.0  9610090.0   9610100.0    9611970.0   9611970.0    9610090.0   \n3     9610460.0  9609990.0         NaN    9610000.0   9610460.0    9609990.0   \n4     9613530.0  9611420.0   9611650.0          NaN   9613530.0    9611420.0   \n...         ...        ...         ...          ...         ...          ...   \n307   9635970.0  9635060.0         NaN    9635970.0   9635970.0    9635060.0   \n308   9638960.0  9637360.0         NaN    9638960.0   9638960.0    9637360.0   \n309   9638690.0  9637360.0         NaN    9638690.0   9638690.0    9637360.0   \n310   9642140.0  9640130.0   9640130.0          NaN   9642140.0    9640130.0   \n311   9641870.0  9639950.0         NaN          NaN   9641870.0    9639950.0   \n\n      limit_buy  limit_sell  \ntime                         \n0           NaN   9611910.0  \n1     9611330.0         NaN  \n2     9610100.0   9611970.0  \n3           NaN   9610000.0  \n4     9611650.0         NaN  \n...         ...         ...  \n307         NaN   9635970.0  \n308         NaN   9638960.0  \n309         NaN   9638690.0  \n310   9640130.0         NaN  \n311         NaN         NaN  \n\n[312 rows x 13 columns]",
      "text/html": "<div>\n<style scoped>\n    .dataframe tbody tr th:only-of-type {\n        vertical-align: middle;\n    }\n\n    .dataframe tbody tr th {\n        vertical-align: top;\n    }\n\n    .dataframe thead th {\n        text-align: right;\n    }\n</style>\n<table border=\"1\" class=\"dataframe\">\n  <thead>\n    <tr style=\"text-align: right;\">\n      <th></th>\n      <th>time_stamp</th>\n      <th>open</th>\n      <th>close</th>\n      <th>high</th>\n      <th>low</th>\n      <th>bit_price</th>\n      <th>ask_price</th>\n      <th>long_price</th>\n      <th>short_price</th>\n      <th>market_buy</th>\n      <th>market_sell</th>\n      <th>limit_buy</th>\n      <th>limit_sell</th>\n    </tr>\n    <tr>\n      <th>time</th>\n      <th></th>\n      <th></th>\n      <th></th>\n      <th></th>\n      <th></th>\n      <th></th>\n      <th></th>\n      <th></th>\n      <th></th>\n      <th></th>\n      <th></th>\n      <th></th>\n      <th></th>\n    </tr>\n  </thead>\n  <tbody>\n    <tr>\n      <th>0</th>\n      <td>2020-05-04 23:44:51.472187</td>\n      <td>9610530</td>\n      <td>9612920</td>\n      <td>9612920</td>\n      <td>9610380</td>\n      <td>9612100.0</td>\n      <td>9610130.0</td>\n      <td>NaN</td>\n      <td>9611910.0</td>\n      <td>9612100.0</td>\n      <td>9610130.0</td>\n      <td>NaN</td>\n      <td>9611910.0</td>\n    </tr>\n    <tr>\n      <th>1</th>\n      <td>2020-05-04 23:44:55.301343</td>\n      <td>9612930</td>\n      <td>9611000</td>\n      <td>9613470</td>\n      <td>9611000</td>\n      <td>9611970.0</td>\n      <td>9611180.0</td>\n      <td>9611330.0</td>\n      <td>NaN</td>\n      <td>9611970.0</td>\n      <td>9611180.0</td>\n      <td>9611330.0</td>\n      <td>NaN</td>\n    </tr>\n    <tr>\n      <th>2</th>\n      <td>2020-05-04 23:44:56.506780</td>\n      <td>9610990</td>\n      <td>9610010</td>\n      <td>9611970</td>\n      <td>9610010</td>\n      <td>9611970.0</td>\n      <td>9610090.0</td>\n      <td>9610100.0</td>\n      <td>9611970.0</td>\n      <td>9611970.0</td>\n      <td>9610090.0</td>\n      <td>9610100.0</td>\n      <td>9611970.0</td>\n    </tr>\n    <tr>\n      <th>3</th>\n      <td>2020-05-04 23:44:58.552715</td>\n      <td>9610010</td>\n      <td>9610120</td>\n      <td>9611070</td>\n      <td>9610000</td>\n      <td>9610460.0</td>\n      <td>9609990.0</td>\n      <td>NaN</td>\n      <td>9610000.0</td>\n      <td>9610460.0</td>\n      <td>9609990.0</td>\n      <td>NaN</td>\n      <td>9610000.0</td>\n    </tr>\n    <tr>\n      <th>4</th>\n      <td>2020-05-04 23:45:00.628893</td>\n      <td>9610000</td>\n      <td>9613640</td>\n      <td>9613640</td>\n      <td>9610000</td>\n      <td>9613530.0</td>\n      <td>9611420.0</td>\n      <td>9611650.0</td>\n      <td>NaN</td>\n      <td>9613530.0</td>\n      <td>9611420.0</td>\n      <td>9611650.0</td>\n      <td>NaN</td>\n    </tr>\n    <tr>\n      <th>...</th>\n      <td>...</td>\n      <td>...</td>\n      <td>...</td>\n      <td>...</td>\n      <td>...</td>\n      <td>...</td>\n      <td>...</td>\n      <td>...</td>\n      <td>...</td>\n      <td>...</td>\n      <td>...</td>\n      <td>...</td>\n      <td>...</td>\n    </tr>\n    <tr>\n      <th>307</th>\n      <td>2020-05-04 23:59:55.017204</td>\n      <td>9635440</td>\n      <td>9638790</td>\n      <td>9638790</td>\n      <td>9635320</td>\n      <td>9635970.0</td>\n      <td>9635060.0</td>\n      <td>NaN</td>\n      <td>9635970.0</td>\n      <td>9635970.0</td>\n      <td>9635060.0</td>\n      <td>NaN</td>\n      <td>9635970.0</td>\n    </tr>\n    <tr>\n      <th>308</th>\n      <td>2020-05-04 23:59:55.963804</td>\n      <td>9638850</td>\n      <td>9638960</td>\n      <td>9639170</td>\n      <td>9637360</td>\n      <td>9638960.0</td>\n      <td>9637360.0</td>\n      <td>NaN</td>\n      <td>9638960.0</td>\n      <td>9638960.0</td>\n      <td>9637360.0</td>\n      <td>NaN</td>\n      <td>9638960.0</td>\n    </tr>\n    <tr>\n      <th>309</th>\n      <td>2020-05-04 23:59:57.000452</td>\n      <td>9638960</td>\n      <td>9639160</td>\n      <td>9639600</td>\n      <td>9638340</td>\n      <td>9638690.0</td>\n      <td>9637360.0</td>\n      <td>NaN</td>\n      <td>9638690.0</td>\n      <td>9638690.0</td>\n      <td>9637360.0</td>\n      <td>NaN</td>\n      <td>9638690.0</td>\n    </tr>\n    <tr>\n      <th>310</th>\n      <td>2020-05-04 23:59:57.535987</td>\n      <td>9639090</td>\n      <td>9642060</td>\n      <td>9642060</td>\n      <td>9638710</td>\n      <td>9642140.0</td>\n      <td>9640130.0</td>\n      <td>9640130.0</td>\n      <td>NaN</td>\n      <td>9642140.0</td>\n      <td>9640130.0</td>\n      <td>9640130.0</td>\n      <td>NaN</td>\n    </tr>\n    <tr>\n      <th>311</th>\n      <td>2020-05-05 00:00:01.766509</td>\n      <td>9642060</td>\n      <td>9641870</td>\n      <td>9642080</td>\n      <td>9639330</td>\n      <td>9641870.0</td>\n      <td>9639950.0</td>\n      <td>NaN</td>\n      <td>NaN</td>\n      <td>9641870.0</td>\n      <td>9639950.0</td>\n      <td>NaN</td>\n      <td>NaN</td>\n    </tr>\n  </tbody>\n</table>\n<p>312 rows × 13 columns</p>\n</div>"
     },
     "execution_count": 40,
     "metadata": {},
     "output_type": "execute_result"
    }
   ],
   "source": [
    "df[['market_buy', 'market_sell', 'limit_buy', 'limit_sell']] = df['time_stamp'].apply(update_price)\n",
    "df"
   ],
   "metadata": {
    "collapsed": false,
    "pycharm": {
     "name": "#%%\n"
    }
   }
  },
  {
   "cell_type": "code",
   "execution_count": 33,
   "outputs": [
    {
     "data": {
      "text/plain": "                                        time_stamp\ntime                                              \n0          (9612100.0, 9610130.0, None, 9611910.0)\n1          (9611970.0, 9611180.0, 9611330.0, None)\n2     (9611970.0, 9610090.0, 9610100.0, 9611970.0)\n3          (9610460.0, 9609990.0, None, 9610000.0)\n4          (9613530.0, 9611420.0, 9611650.0, None)\n...                                            ...\n307        (9635970.0, 9635060.0, None, 9635970.0)\n308        (9638960.0, 9637360.0, None, 9638960.0)\n309        (9638690.0, 9637360.0, None, 9638690.0)\n310        (9642140.0, 9640130.0, 9640130.0, None)\n311             (9641870.0, 9639950.0, None, None)\n\n[312 rows x 1 columns]",
      "text/html": "<div>\n<style scoped>\n    .dataframe tbody tr th:only-of-type {\n        vertical-align: middle;\n    }\n\n    .dataframe tbody tr th {\n        vertical-align: top;\n    }\n\n    .dataframe thead th {\n        text-align: right;\n    }\n</style>\n<table border=\"1\" class=\"dataframe\">\n  <thead>\n    <tr style=\"text-align: right;\">\n      <th></th>\n      <th>time_stamp</th>\n    </tr>\n    <tr>\n      <th>time</th>\n      <th></th>\n    </tr>\n  </thead>\n  <tbody>\n    <tr>\n      <th>0</th>\n      <td>(9612100.0, 9610130.0, None, 9611910.0)</td>\n    </tr>\n    <tr>\n      <th>1</th>\n      <td>(9611970.0, 9611180.0, 9611330.0, None)</td>\n    </tr>\n    <tr>\n      <th>2</th>\n      <td>(9611970.0, 9610090.0, 9610100.0, 9611970.0)</td>\n    </tr>\n    <tr>\n      <th>3</th>\n      <td>(9610460.0, 9609990.0, None, 9610000.0)</td>\n    </tr>\n    <tr>\n      <th>4</th>\n      <td>(9613530.0, 9611420.0, 9611650.0, None)</td>\n    </tr>\n    <tr>\n      <th>...</th>\n      <td>...</td>\n    </tr>\n    <tr>\n      <th>307</th>\n      <td>(9635970.0, 9635060.0, None, 9635970.0)</td>\n    </tr>\n    <tr>\n      <th>308</th>\n      <td>(9638960.0, 9637360.0, None, 9638960.0)</td>\n    </tr>\n    <tr>\n      <th>309</th>\n      <td>(9638690.0, 9637360.0, None, 9638690.0)</td>\n    </tr>\n    <tr>\n      <th>310</th>\n      <td>(9642140.0, 9640130.0, 9640130.0, None)</td>\n    </tr>\n    <tr>\n      <th>311</th>\n      <td>(9641870.0, 9639950.0, None, None)</td>\n    </tr>\n  </tbody>\n</table>\n<p>312 rows × 1 columns</p>\n</div>"
     },
     "execution_count": 33,
     "metadata": {},
     "output_type": "execute_result"
    }
   ],
   "source": [
    "a_df = pd.DataFrame(a)\n",
    "\n",
    "a_df"
   ],
   "metadata": {
    "collapsed": false,
    "pycharm": {
     "name": "#%%\n"
    }
   }
  },
  {
   "cell_type": "code",
   "execution_count": 14,
   "outputs": [
    {
     "data": {
      "text/plain": "Timestamp('2020-05-04 23:44:45.694414')"
     },
     "execution_count": 14,
     "metadata": {},
     "output_type": "execute_result"
    }
   ],
   "source": [
    "history.start_time"
   ],
   "metadata": {
    "collapsed": false,
    "pycharm": {
     "name": "#%%\n"
    }
   }
  },
  {
   "cell_type": "code",
   "execution_count": 21,
   "outputs": [
    {
     "data": {
      "text/plain": "(9608610.0, 9610360.0)"
     },
     "execution_count": 21,
     "metadata": {},
     "output_type": "execute_result"
    }
   ],
   "source": [
    "r = history.limit_price(history.start_time, window=100, volume=1)\n",
    "#r = history.limit_price(pd.Timestamp('2020-05-05 00:20:00'), window=1000)\n",
    "r"
   ],
   "metadata": {
    "collapsed": false,
    "pycharm": {
     "name": "#%%\n"
    }
   }
  },
  {
   "cell_type": "code",
   "execution_count": 20,
   "outputs": [
    {
     "data": {
      "text/plain": "(9610360.0, 9608390.0)"
     },
     "execution_count": 20,
     "metadata": {},
     "output_type": "execute_result"
    }
   ],
   "source": [
    "r = history.market_price(history.start_time)\n",
    "r"
   ],
   "metadata": {
    "collapsed": false,
    "pycharm": {
     "name": "#%%\n"
    }
   }
  },
  {
   "cell_type": "code",
   "execution_count": null,
   "outputs": [],
   "source": [],
   "metadata": {
    "collapsed": false,
    "pycharm": {
     "name": "#%%\n"
    }
   }
  }
 ],
 "metadata": {
  "kernelspec": {
   "display_name": "Python 3",
   "language": "python",
   "name": "python3"
  },
  "language_info": {
   "codemirror_mode": {
    "name": "ipython",
    "version": 2
   },
   "file_extension": ".py",
   "mimetype": "text/x-python",
   "name": "python",
   "nbconvert_exporter": "python",
   "pygments_lexer": "ipython2",
   "version": "2.7.6"
  }
 },
 "nbformat": 4,
 "nbformat_minor": 0
}