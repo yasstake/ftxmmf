{
 "cells": [
  {
   "cell_type": "markdown",
   "metadata": {
    "collapsed": true,
    "pycharm": {
     "name": "#%% md\n"
    }
   },
   "source": [
    "##　実装アイディア\n",
    "\n",
    "# BARの設定\n",
    "* 時間バー(TickBar)\n",
    "   * 秒\n",
    "   * 分\n",
    "* Volumeバー\n",
    "   * BTC出来高\n",
    "   * USD出来高\n",
    "\n",
    "# 特徴量\n",
    "\n",
    "* 板情報\n",
    "* Window（N秒最安値、最高値 etc)\n",
    "* RCI\n",
    "* ボリンジャーバンド（＋ーσ）\n",
    "* VWAP：出来高加重平均\n",
    "\n",
    "\n",
    "# BSF-X\n",
    "https://note.com/kunmosky1/n/n112b73eee4f0\n",
    "* 板情報はスナップショット\n",
    "* いた情報の隙間を返す\n",
    "* ローソク足はcrypt watch\n",
    "\n",
    "# APIに必要なもの\n",
    "\n",
    "```python\n",
    "order(type, side, price, size)\n",
    "```\n",
    "  type: LIMIT, MARKET\n",
    "  side: SELL, BUY\n",
    "  price:\n",
    "  size:\n",
    "\n",
    "\n",
    "```\n",
    "calc_effective_board(time_offset, total_size)\n",
    "```\n",
    "中央値からtotal_size合算がtotal_sizeになる位置の価格情報\n",
    "戻り値：　[売り板価格, 買い板価格]\n",
    "\n",
    "\n",
    "##　参考URL\n",
    "https://note.com/uki_profit/n/n24a110c0a609\n",
    "\n",
    "2週間で利回り4000%超を達成したトレーディングbot構築の考え方\n",
    "\n",
    "https://note.com/uki_profit/n/nd9561a9d31f7\n",
    "\n",
    "BTC自動売買は儲かるのか　～BTC自動売買に影響を与えた10の出来事～\n",
    "\n",
    "\n",
    "https://www.sk3w.co/\n",
    "\n",
    "skew\n"
   ]
  },
  {
   "cell_type": "code",
   "execution_count": null,
   "outputs": [],
   "source": [
    "・Loggingを初めから圧縮する。\n",
    "・ファイルを毎回ひらかずにファイルハンドルを再利用する。\n",
    "\n",
    "\n",
    "\n",
    "\n",
    "\n"
   ],
   "metadata": {
    "collapsed": false,
    "pycharm": {
     "name": "#%%\n"
    }
   }
  }
 ],
 "metadata": {
  "kernelspec": {
   "display_name": "Python 3",
   "language": "python",
   "name": "python3"
  },
  "language_info": {
   "codemirror_mode": {
    "name": "ipython",
    "version": 2
   },
   "file_extension": ".py",
   "mimetype": "text/x-python",
   "name": "python",
   "nbconvert_exporter": "python",
   "pygments_lexer": "ipython2",
   "version": "2.7.6"
  }
 },
 "nbformat": 4,
 "nbformat_minor": 0
}