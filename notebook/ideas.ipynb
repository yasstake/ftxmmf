{
 "cells": [
  {
   "cell_type": "markdown",
   "metadata": {
    "collapsed": true,
    "pycharm": {
     "name": "#%% md\n"
    }
   },
   "source": [
    "##　実装アイディア\n",
    "\n",
    "# BARの設定\n",
    "* 時間バー(TickBar)\n",
    "   * 秒\n",
    "   * 分\n",
    "* Volumeバー\n",
    "   * BTC出来高\n",
    "   * USD出来高\n",
    "\n",
    "\n",
    "##　参考URL\n",
    "https://note.com/uki_profit/n/n24a110c0a609\n",
    "2週間で利回り4000%超を達成したトレーディングbot構築の考え方\n",
    "\n",
    "https://note.com/uki_profit/n/nd9561a9d31f7\n",
    "BTC自動売買は儲かるのか　～BTC自動売買に影響を与えた10の出来事～\n",
    "\n",
    "\n",
    "\n",
    "\n",
    "\n",
    "\n"
   ]
  }
 ],
 "metadata": {
  "kernelspec": {
   "display_name": "Python 3",
   "language": "python",
   "name": "python3"
  },
  "language_info": {
   "codemirror_mode": {
    "name": "ipython",
    "version": 2
   },
   "file_extension": ".py",
   "mimetype": "text/x-python",
   "name": "python",
   "nbconvert_exporter": "python",
   "pygments_lexer": "ipython2",
   "version": "2.7.6"
  }
 },
 "nbformat": 4,
 "nbformat_minor": 0
}