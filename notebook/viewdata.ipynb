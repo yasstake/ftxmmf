{
 "cells": [
  {
   "cell_type": "markdown",
   "source": [
    "データの取り込みと統計量計算\n",
    "最初に時間をus->nsへ変換し、その後datetimeへ型変換"
   ],
   "metadata": {
    "collapsed": false,
    "pycharm": {
     "name": "#%% md\n"
    }
   }
  },
  {
   "cell_type": "code",
   "execution_count": 5,
   "metadata": {
    "collapsed": true,
    "pycharm": {
     "name": "#%%\n"
    }
   },
   "outputs": [
    {
     "name": "stdout",
     "output_type": "stream",
     "text": [
      "size\n"
     ]
    }
   ],
   "source": [
    "import pandas as pd\n",
    "from logger.util import Action\n",
    "\n",
    "TIME = 'time'\n",
    "INDEX = 'index'\n",
    "ACTION = 'action'\n",
    "PRICE = 'price'\n",
    "SIZE = 'size'\n",
    "\n",
    "\n",
    "print(SIZE)"
   ]
  },
  {
   "cell_type": "code",
   "execution_count": 7,
   "outputs": [
    {
     "data": {
      "text/plain": "             action         index         price          size\ncount  6.950816e+06  6.950816e+06  6.950816e+06  6.950816e+06\nmean   2.682106e+00  1.299205e+08  9.639873e+06  1.847681e-01\nstd    8.631698e-01  4.544969e+08  2.716428e+05  1.397452e+00\nmin    1.000000e+00  0.000000e+00  0.000000e+00  0.000000e+00\n25%    2.000000e+00  8.000000e+00  9.603620e+06  1.000000e-02\n50%    3.000000e+00  2.200000e+01  9.628070e+06  4.000000e-02\n75%    3.000000e+00  1.470000e+02  9.674370e+06  2.000000e-01\nmax    6.000000e+00  1.720144e+09  1.800000e+07  9.820000e+02",
      "text/html": "<div>\n<style scoped>\n    .dataframe tbody tr th:only-of-type {\n        vertical-align: middle;\n    }\n\n    .dataframe tbody tr th {\n        vertical-align: top;\n    }\n\n    .dataframe thead th {\n        text-align: right;\n    }\n</style>\n<table border=\"1\" class=\"dataframe\">\n  <thead>\n    <tr style=\"text-align: right;\">\n      <th></th>\n      <th>action</th>\n      <th>index</th>\n      <th>price</th>\n      <th>size</th>\n    </tr>\n  </thead>\n  <tbody>\n    <tr>\n      <th>count</th>\n      <td>6.950816e+06</td>\n      <td>6.950816e+06</td>\n      <td>6.950816e+06</td>\n      <td>6.950816e+06</td>\n    </tr>\n    <tr>\n      <th>mean</th>\n      <td>2.682106e+00</td>\n      <td>1.299205e+08</td>\n      <td>9.639873e+06</td>\n      <td>1.847681e-01</td>\n    </tr>\n    <tr>\n      <th>std</th>\n      <td>8.631698e-01</td>\n      <td>4.544969e+08</td>\n      <td>2.716428e+05</td>\n      <td>1.397452e+00</td>\n    </tr>\n    <tr>\n      <th>min</th>\n      <td>1.000000e+00</td>\n      <td>0.000000e+00</td>\n      <td>0.000000e+00</td>\n      <td>0.000000e+00</td>\n    </tr>\n    <tr>\n      <th>25%</th>\n      <td>2.000000e+00</td>\n      <td>8.000000e+00</td>\n      <td>9.603620e+06</td>\n      <td>1.000000e-02</td>\n    </tr>\n    <tr>\n      <th>50%</th>\n      <td>3.000000e+00</td>\n      <td>2.200000e+01</td>\n      <td>9.628070e+06</td>\n      <td>4.000000e-02</td>\n    </tr>\n    <tr>\n      <th>75%</th>\n      <td>3.000000e+00</td>\n      <td>1.470000e+02</td>\n      <td>9.674370e+06</td>\n      <td>2.000000e-01</td>\n    </tr>\n    <tr>\n      <th>max</th>\n      <td>6.000000e+00</td>\n      <td>1.720144e+09</td>\n      <td>1.800000e+07</td>\n      <td>9.820000e+02</td>\n    </tr>\n  </tbody>\n</table>\n</div>"
     },
     "execution_count": 7,
     "metadata": {},
     "output_type": "execute_result"
    }
   ],
   "source": [
    "names=(ACTION, TIME, INDEX, PRICE, SIZE)\n",
    "df = pd.read_csv('../DATA/MERGE.log.gz', names=names)\n",
    "# df = df.sort_values(['time', 'index', 'action']).reindex()\n",
    "df[TIME] = pd.to_datetime(df[TIME]*1000)\n",
    "\n",
    "df.describe()\n"
   ],
   "metadata": {
    "collapsed": false,
    "pycharm": {
     "name": "#%%\n"
    }
   }
  },
  {
   "cell_type": "code",
   "execution_count": 8,
   "outputs": [
    {
     "name": "stdout",
     "output_type": "stream",
     "text": [
      "DFの情報表示\n",
      "<class 'pandas.core.frame.DataFrame'>\n",
      "RangeIndex: 6950816 entries, 0 to 6950815\n",
      "Data columns (total 5 columns):\n",
      " #   Column  Dtype         \n",
      "---  ------  -----         \n",
      " 0   action  int64         \n",
      " 1   time    datetime64[ns]\n",
      " 2   index   int64         \n",
      " 3   price   int64         \n",
      " 4   size    float64       \n",
      "dtypes: datetime64[ns](1), float64(1), int64(3)\n",
      "memory usage: 265.2 MB\n"
     ]
    }
   ],
   "source": [
    "print('DFの情報表示')\n",
    "df.info()"
   ],
   "metadata": {
    "collapsed": false,
    "pycharm": {
     "name": "#%%\n"
    }
   }
  },
  {
   "cell_type": "code",
   "execution_count": 23,
   "outputs": [
    {
     "name": "stdout",
     "output_type": "stream",
     "text": [
      "ログファイルの始まり時刻\n"
     ]
    },
    {
     "data": {
      "text/plain": "Timestamp('2020-05-05 00:00:02.250868')"
     },
     "execution_count": 23,
     "metadata": {},
     "output_type": "execute_result"
    }
   ],
   "source": [
    "print('ログファイルの始まり時刻')\n",
    "df[:1][TIME][0]\n",
    "start = df.head(1).iat[0, 1]\n",
    "start"
   ],
   "metadata": {
    "collapsed": false,
    "pycharm": {
     "name": "#%%\n"
    }
   }
  },
  {
   "cell_type": "code",
   "execution_count": 24,
   "outputs": [
    {
     "name": "stdout",
     "output_type": "stream",
     "text": [
      "ログファルの終了時刻\n"
     ]
    },
    {
     "data": {
      "text/plain": "Timestamp('2020-05-05 05:25:20.879438')"
     },
     "execution_count": 24,
     "metadata": {},
     "output_type": "execute_result"
    }
   ],
   "source": [
    "print('ログファルの終了時刻')\n",
    "end = df.tail(1).iat[0, 1]\n",
    "end"
   ],
   "metadata": {
    "collapsed": false,
    "pycharm": {
     "name": "#%%\n"
    }
   }
  },
  {
   "cell_type": "code",
   "execution_count": 28,
   "outputs": [
    {
     "name": "stdout",
     "output_type": "stream",
     "text": [
      "ログファイルの長さ時間\n"
     ]
    },
    {
     "data": {
      "text/plain": "Timedelta('0 days 05:25:18.628570')"
     },
     "execution_count": 28,
     "metadata": {},
     "output_type": "execute_result"
    }
   ],
   "source": [
    "print('ログファイルの長さ時間')\n",
    "diff = end - start\n",
    "diff"
   ],
   "metadata": {
    "collapsed": false,
    "pycharm": {
     "name": "#%%\n"
    }
   }
  },
  {
   "cell_type": "code",
   "execution_count": 31,
   "outputs": [
    {
     "data": {
      "text/plain": "18724.513125020003"
     },
     "execution_count": 31,
     "metadata": {},
     "output_type": "execute_result"
    }
   ],
   "source": [
    "#取引高\n",
    "\n",
    "long_volume = df[(df[ACTION]==Action.TRADE_LONG)].sum()\n",
    "print(long_volume[PRICE])\n",
    "print(long_volume[SIZE])\n"
   ],
   "metadata": {
    "collapsed": false,
    "pycharm": {
     "name": "#%%\n"
    }
   }
  },
  {
   "cell_type": "code",
   "execution_count": null,
   "outputs": [],
   "source": [
    "ts = df[ts < df[TIME]]"
   ],
   "metadata": {
    "collapsed": false,
    "pycharm": {
     "name": "#%%\n"
    }
   }
  },
  {
   "cell_type": "code",
   "execution_count": null,
   "outputs": [],
   "source": [
    "print('統計量の表示')\n",
    "df.describe()"
   ],
   "metadata": {
    "collapsed": false,
    "pycharm": {
     "name": "#%%\n"
    }
   }
  },
  {
   "cell_type": "code",
   "execution_count": null,
   "outputs": [],
   "source": [
    "print('Long')\n",
    "long = df[(df[ACTION]==Action.TRADE_LONG) | (df[ACTION]==Action.TRADE_LONG_LIQUID)]\n",
    "long.describe()"
   ],
   "metadata": {
    "collapsed": false,
    "pycharm": {
     "name": "#%%\n"
    }
   }
  },
  {
   "cell_type": "code",
   "execution_count": null,
   "outputs": [],
   "source": [
    "print('short')\n",
    "short = df[(df[ACTION]==Action.TRADE_SHORT) | (df[ACTION]==Action.TRADE_SHORT_LIQUID)]\n",
    "short.describe()"
   ],
   "metadata": {
    "collapsed": false,
    "pycharm": {
     "name": "#%%\n"
    }
   }
  },
  {
   "cell_type": "code",
   "execution_count": null,
   "outputs": [],
   "source": [
    "bits = df[((df[ACTION]==Action.PARTIAL)|(df[ACTION]==Action.UPDATE_BIT))]\n",
    "\n",
    "bits.describe()"
   ],
   "metadata": {
    "collapsed": false,
    "pycharm": {
     "name": "#%%\n"
    }
   }
  },
  {
   "cell_type": "code",
   "execution_count": null,
   "outputs": [],
   "source": [
    "asks = df[((df[ACTION]==Action.PARTIAL)|(df[ACTION]==Action.UPDATE_ASK))]\n",
    "\n",
    "asks.describe()"
   ],
   "metadata": {
    "collapsed": false,
    "pycharm": {
     "name": "#%%\n"
    }
   }
  },
  {
   "cell_type": "code",
   "execution_count": null,
   "outputs": [],
   "source": [
    "last_asks=asks.drop_duplicates(subset=PRICE, keep='last')\n",
    "last_asks.describe()\n",
    "\n",
    "last_partial = last_asks[(last_asks[ACTION]==Action.PARTIAL)]\n",
    "last_partial.describe()\n",
    "\n",
    "\n",
    "index = last_partial.index[0]\n",
    "index"
   ],
   "metadata": {
    "collapsed": false,
    "pycharm": {
     "name": "#%%\n"
    }
   }
  },
  {
   "cell_type": "code",
   "execution_count": null,
   "outputs": [],
   "source": [
    "last_asks = last_asks[(last_asks.index > index)]\n",
    "\n",
    "last_asks"
   ],
   "metadata": {
    "collapsed": false,
    "pycharm": {
     "name": "#%%\n"
    }
   }
  },
  {
   "cell_type": "code",
   "execution_count": null,
   "outputs": [],
   "source": [],
   "metadata": {
    "collapsed": false,
    "pycharm": {
     "name": "#%%\n"
    }
   }
  },
  {
   "cell_type": "code",
   "execution_count": null,
   "outputs": [],
   "source": [],
   "metadata": {
    "collapsed": false,
    "pycharm": {
     "name": "#%%\n"
    }
   }
  },
  {
   "cell_type": "code",
   "execution_count": null,
   "outputs": [],
   "source": [],
   "metadata": {
    "collapsed": false,
    "pycharm": {
     "name": "#%%\n"
    }
   }
  },
  {
   "cell_type": "code",
   "execution_count": null,
   "outputs": [],
   "source": [
    "size=group['size']\n",
    "size=size[size> 9751720]\n",
    "print(size.sum())"
   ],
   "metadata": {
    "collapsed": false,
    "pycharm": {
     "name": "#%%a\n"
    }
   }
  },
  {
   "cell_type": "code",
   "execution_count": null,
   "outputs": [],
   "source": [
    "price = short[short['price'] > 9750000]\n",
    "price.sum()['size']"
   ],
   "metadata": {
    "collapsed": false,
    "pycharm": {
     "name": "#%%\n"
    }
   }
  },
  {
   "cell_type": "code",
   "execution_count": null,
   "outputs": [],
   "source": [
    "long = df[(df['action']==5)]\n",
    "long\n",
    "\n"
   ],
   "metadata": {
    "collapsed": false,
    "pycharm": {
     "name": "#%%\n"
    }
   }
  },
  {
   "cell_type": "markdown",
   "source": [
    "# その他テスト\n",
    "Pandasの時刻はus単位。\n",
    "iso時間はnsのため1000倍する。"
   ],
   "metadata": {
    "collapsed": false
   }
  },
  {
   "cell_type": "code",
   "execution_count": null,
   "outputs": [],
   "source": [
    "TIME=1588463619416252 * 1000\n",
    "pd.Timestamp(TIME)"
   ],
   "metadata": {
    "collapsed": false,
    "pycharm": {
     "name": "#%%\n"
    }
   }
  },
  {
   "cell_type": "markdown",
   "source": [
    "## SQLとPandasの対応表\n",
    "https://qiita.com/takaiyuk/items/5232442eaeb01299b265\n",
    "\n"
   ],
   "metadata": {
    "collapsed": false
   }
  }
 ],
 "metadata": {
  "kernelspec": {
   "display_name": "Python 3",
   "language": "python",
   "name": "python3"
  },
  "language_info": {
   "codemirror_mode": {
    "name": "ipython",
    "version": 2
   },
   "file_extension": ".py",
   "mimetype": "text/x-python",
   "name": "python",
   "nbconvert_exporter": "python",
   "pygments_lexer": "ipython2",
   "version": "2.7.6"
  }
 },
 "nbformat": 4,
 "nbformat_minor": 0
}