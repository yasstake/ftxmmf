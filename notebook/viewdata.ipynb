{
 "cells": [
  {
   "cell_type": "markdown",
   "source": [
    "データの取り込みと統計量計算\n",
    "最初に時間をus->nsへ変換し、その後datetimeへ型変換"
   ],
   "metadata": {
    "collapsed": false,
    "pycharm": {
     "name": "#%% md\n"
    }
   }
  },
  {
   "cell_type": "code",
   "execution_count": 1,
   "metadata": {
    "collapsed": true,
    "pycharm": {
     "name": "#%%\n"
    }
   },
   "outputs": [
    {
     "name": "stdout",
     "output_type": "stream",
     "text": [
      "size\n"
     ]
    }
   ],
   "source": [
    "import pandas as pd\n",
    "from logger.util import Action\n",
    "\n",
    "TIME = 'time'\n",
    "INDEX = 'index'\n",
    "ACTION = 'action'\n",
    "PRICE = 'price'\n",
    "SIZE = 'size'\n",
    "\n",
    "\n",
    "print(SIZE)"
   ]
  },
  {
   "cell_type": "code",
   "execution_count": 2,
   "outputs": [
    {
     "data": {
      "text/plain": "             action         index         price          size  checksum\ncount  1.076170e+06  1.076170e+06  1.075553e+06  1.075553e+06       0.0\nmean   2.649818e+00  1.093155e+08  9.957481e+06  1.793599e-01       NaN\nstd    8.176380e-01  4.202949e+08  1.214221e+05  1.904452e+00       NaN\nmin    1.000000e+00  0.000000e+00  5.000000e+06  0.000000e+00       NaN\n25%    2.000000e+00  7.000000e+00  9.957560e+06  1.000000e-02       NaN\n50%    3.000000e+00  2.100000e+01  9.966520e+06  3.700000e-02       NaN\n75%    3.000000e+00  1.370000e+02  9.974470e+06  2.000000e-01       NaN\nmax    6.000000e+00  1.725294e+09  1.850000e+07  9.950300e+02       NaN",
      "text/html": "<div>\n<style scoped>\n    .dataframe tbody tr th:only-of-type {\n        vertical-align: middle;\n    }\n\n    .dataframe tbody tr th {\n        vertical-align: top;\n    }\n\n    .dataframe thead th {\n        text-align: right;\n    }\n</style>\n<table border=\"1\" class=\"dataframe\">\n  <thead>\n    <tr style=\"text-align: right;\">\n      <th></th>\n      <th>action</th>\n      <th>index</th>\n      <th>price</th>\n      <th>size</th>\n      <th>checksum</th>\n    </tr>\n  </thead>\n  <tbody>\n    <tr>\n      <th>count</th>\n      <td>1.076170e+06</td>\n      <td>1.076170e+06</td>\n      <td>1.075553e+06</td>\n      <td>1.075553e+06</td>\n      <td>0.0</td>\n    </tr>\n    <tr>\n      <th>mean</th>\n      <td>2.649818e+00</td>\n      <td>1.093155e+08</td>\n      <td>9.957481e+06</td>\n      <td>1.793599e-01</td>\n      <td>NaN</td>\n    </tr>\n    <tr>\n      <th>std</th>\n      <td>8.176380e-01</td>\n      <td>4.202949e+08</td>\n      <td>1.214221e+05</td>\n      <td>1.904452e+00</td>\n      <td>NaN</td>\n    </tr>\n    <tr>\n      <th>min</th>\n      <td>1.000000e+00</td>\n      <td>0.000000e+00</td>\n      <td>5.000000e+06</td>\n      <td>0.000000e+00</td>\n      <td>NaN</td>\n    </tr>\n    <tr>\n      <th>25%</th>\n      <td>2.000000e+00</td>\n      <td>7.000000e+00</td>\n      <td>9.957560e+06</td>\n      <td>1.000000e-02</td>\n      <td>NaN</td>\n    </tr>\n    <tr>\n      <th>50%</th>\n      <td>3.000000e+00</td>\n      <td>2.100000e+01</td>\n      <td>9.966520e+06</td>\n      <td>3.700000e-02</td>\n      <td>NaN</td>\n    </tr>\n    <tr>\n      <th>75%</th>\n      <td>3.000000e+00</td>\n      <td>1.370000e+02</td>\n      <td>9.974470e+06</td>\n      <td>2.000000e-01</td>\n      <td>NaN</td>\n    </tr>\n    <tr>\n      <th>max</th>\n      <td>6.000000e+00</td>\n      <td>1.725294e+09</td>\n      <td>1.850000e+07</td>\n      <td>9.950300e+02</td>\n      <td>NaN</td>\n    </tr>\n  </tbody>\n</table>\n</div>"
     },
     "execution_count": 2,
     "metadata": {},
     "output_type": "execute_result"
    }
   ],
   "source": [
    "names=(ACTION, TIME, INDEX, PRICE, SIZE, 'checksum')\n",
    "df = pd.read_csv('../DATA/BF-TEST3.log.gz', names=names)\n",
    "#df = pd.read_csv('../DATA/MERGE.log.gz')\n",
    "# df = df.sort_values(['time', 'index', 'action']).reindex()\n",
    "df[TIME] = pd.to_datetime(df[TIME]*1000)\n",
    "\n",
    "df.describe()\n"
   ],
   "metadata": {
    "collapsed": false,
    "pycharm": {
     "name": "#%%\n"
    }
   }
  },
  {
   "cell_type": "code",
   "execution_count": 3,
   "outputs": [
    {
     "name": "stdout",
     "output_type": "stream",
     "text": [
      "DFの情報表示\n"
     ]
    },
    {
     "data": {
      "text/plain": "    action                       time  index      price      size  checksum\n0        1 2020-05-07 09:16:25.731574      0        NaN       NaN       NaN\n1        2 2020-05-07 09:16:25.731574      0  9927750.0  0.050000       NaN\n2        2 2020-05-07 09:16:25.731574      1  9927340.0  0.093618       NaN\n3        2 2020-05-07 09:16:25.731574      2  9927250.0  0.050000       NaN\n4        2 2020-05-07 09:16:25.731574      3  9927200.0  0.020000       NaN\n5        2 2020-05-07 09:16:25.731574      4  9926990.0  0.020000       NaN\n6        2 2020-05-07 09:16:25.731574      5  9926910.0  0.020000       NaN\n7        2 2020-05-07 09:16:25.731574      6  9926600.0  0.012677       NaN\n8        2 2020-05-07 09:16:25.731574      7  9926580.0  0.020000       NaN\n9        2 2020-05-07 09:16:25.731574      8  9926530.0  0.050000       NaN\n10       2 2020-05-07 09:16:25.731574      9  9926500.0  0.010000       NaN\n11       2 2020-05-07 09:16:25.731574     10  9926440.0  0.050000       NaN\n12       2 2020-05-07 09:16:25.731574     11  9926320.0  0.010000       NaN\n13       2 2020-05-07 09:16:25.731574     12  9926280.0  0.020000       NaN\n14       2 2020-05-07 09:16:25.731574     13  9926260.0  0.010000       NaN\n15       2 2020-05-07 09:16:25.731574     14  9926220.0  0.020000       NaN\n16       2 2020-05-07 09:16:25.731574     15  9926160.0  0.100000       NaN\n17       2 2020-05-07 09:16:25.731574     16  9926140.0  0.010000       NaN\n18       2 2020-05-07 09:16:25.731574     17  9926120.0  0.055000       NaN\n19       2 2020-05-07 09:16:25.731574     18  9925980.0  0.020000       NaN",
      "text/html": "<div>\n<style scoped>\n    .dataframe tbody tr th:only-of-type {\n        vertical-align: middle;\n    }\n\n    .dataframe tbody tr th {\n        vertical-align: top;\n    }\n\n    .dataframe thead th {\n        text-align: right;\n    }\n</style>\n<table border=\"1\" class=\"dataframe\">\n  <thead>\n    <tr style=\"text-align: right;\">\n      <th></th>\n      <th>action</th>\n      <th>time</th>\n      <th>index</th>\n      <th>price</th>\n      <th>size</th>\n      <th>checksum</th>\n    </tr>\n  </thead>\n  <tbody>\n    <tr>\n      <th>0</th>\n      <td>1</td>\n      <td>2020-05-07 09:16:25.731574</td>\n      <td>0</td>\n      <td>NaN</td>\n      <td>NaN</td>\n      <td>NaN</td>\n    </tr>\n    <tr>\n      <th>1</th>\n      <td>2</td>\n      <td>2020-05-07 09:16:25.731574</td>\n      <td>0</td>\n      <td>9927750.0</td>\n      <td>0.050000</td>\n      <td>NaN</td>\n    </tr>\n    <tr>\n      <th>2</th>\n      <td>2</td>\n      <td>2020-05-07 09:16:25.731574</td>\n      <td>1</td>\n      <td>9927340.0</td>\n      <td>0.093618</td>\n      <td>NaN</td>\n    </tr>\n    <tr>\n      <th>3</th>\n      <td>2</td>\n      <td>2020-05-07 09:16:25.731574</td>\n      <td>2</td>\n      <td>9927250.0</td>\n      <td>0.050000</td>\n      <td>NaN</td>\n    </tr>\n    <tr>\n      <th>4</th>\n      <td>2</td>\n      <td>2020-05-07 09:16:25.731574</td>\n      <td>3</td>\n      <td>9927200.0</td>\n      <td>0.020000</td>\n      <td>NaN</td>\n    </tr>\n    <tr>\n      <th>5</th>\n      <td>2</td>\n      <td>2020-05-07 09:16:25.731574</td>\n      <td>4</td>\n      <td>9926990.0</td>\n      <td>0.020000</td>\n      <td>NaN</td>\n    </tr>\n    <tr>\n      <th>6</th>\n      <td>2</td>\n      <td>2020-05-07 09:16:25.731574</td>\n      <td>5</td>\n      <td>9926910.0</td>\n      <td>0.020000</td>\n      <td>NaN</td>\n    </tr>\n    <tr>\n      <th>7</th>\n      <td>2</td>\n      <td>2020-05-07 09:16:25.731574</td>\n      <td>6</td>\n      <td>9926600.0</td>\n      <td>0.012677</td>\n      <td>NaN</td>\n    </tr>\n    <tr>\n      <th>8</th>\n      <td>2</td>\n      <td>2020-05-07 09:16:25.731574</td>\n      <td>7</td>\n      <td>9926580.0</td>\n      <td>0.020000</td>\n      <td>NaN</td>\n    </tr>\n    <tr>\n      <th>9</th>\n      <td>2</td>\n      <td>2020-05-07 09:16:25.731574</td>\n      <td>8</td>\n      <td>9926530.0</td>\n      <td>0.050000</td>\n      <td>NaN</td>\n    </tr>\n    <tr>\n      <th>10</th>\n      <td>2</td>\n      <td>2020-05-07 09:16:25.731574</td>\n      <td>9</td>\n      <td>9926500.0</td>\n      <td>0.010000</td>\n      <td>NaN</td>\n    </tr>\n    <tr>\n      <th>11</th>\n      <td>2</td>\n      <td>2020-05-07 09:16:25.731574</td>\n      <td>10</td>\n      <td>9926440.0</td>\n      <td>0.050000</td>\n      <td>NaN</td>\n    </tr>\n    <tr>\n      <th>12</th>\n      <td>2</td>\n      <td>2020-05-07 09:16:25.731574</td>\n      <td>11</td>\n      <td>9926320.0</td>\n      <td>0.010000</td>\n      <td>NaN</td>\n    </tr>\n    <tr>\n      <th>13</th>\n      <td>2</td>\n      <td>2020-05-07 09:16:25.731574</td>\n      <td>12</td>\n      <td>9926280.0</td>\n      <td>0.020000</td>\n      <td>NaN</td>\n    </tr>\n    <tr>\n      <th>14</th>\n      <td>2</td>\n      <td>2020-05-07 09:16:25.731574</td>\n      <td>13</td>\n      <td>9926260.0</td>\n      <td>0.010000</td>\n      <td>NaN</td>\n    </tr>\n    <tr>\n      <th>15</th>\n      <td>2</td>\n      <td>2020-05-07 09:16:25.731574</td>\n      <td>14</td>\n      <td>9926220.0</td>\n      <td>0.020000</td>\n      <td>NaN</td>\n    </tr>\n    <tr>\n      <th>16</th>\n      <td>2</td>\n      <td>2020-05-07 09:16:25.731574</td>\n      <td>15</td>\n      <td>9926160.0</td>\n      <td>0.100000</td>\n      <td>NaN</td>\n    </tr>\n    <tr>\n      <th>17</th>\n      <td>2</td>\n      <td>2020-05-07 09:16:25.731574</td>\n      <td>16</td>\n      <td>9926140.0</td>\n      <td>0.010000</td>\n      <td>NaN</td>\n    </tr>\n    <tr>\n      <th>18</th>\n      <td>2</td>\n      <td>2020-05-07 09:16:25.731574</td>\n      <td>17</td>\n      <td>9926120.0</td>\n      <td>0.055000</td>\n      <td>NaN</td>\n    </tr>\n    <tr>\n      <th>19</th>\n      <td>2</td>\n      <td>2020-05-07 09:16:25.731574</td>\n      <td>18</td>\n      <td>9925980.0</td>\n      <td>0.020000</td>\n      <td>NaN</td>\n    </tr>\n  </tbody>\n</table>\n</div>"
     },
     "execution_count": 3,
     "metadata": {},
     "output_type": "execute_result"
    }
   ],
   "source": [
    "print('DFの情報表示')\n",
    "df.head(20)"
   ],
   "metadata": {
    "collapsed": false,
    "pycharm": {
     "name": "#%%\n"
    }
   }
  },
  {
   "cell_type": "code",
   "execution_count": 4,
   "outputs": [],
   "source": [
    "# save してみる\n",
    "\n",
    "df.to_csv('test.gz')"
   ],
   "metadata": {
    "collapsed": false,
    "pycharm": {
     "name": "#%%\n"
    }
   }
  },
  {
   "cell_type": "code",
   "execution_count": 5,
   "outputs": [
    {
     "name": "stdout",
     "output_type": "stream",
     "text": [
      "ログファイルの始まり時刻\n"
     ]
    },
    {
     "data": {
      "text/plain": "Timestamp('2020-05-07 09:16:25.731574')"
     },
     "execution_count": 5,
     "metadata": {},
     "output_type": "execute_result"
    }
   ],
   "source": [
    "print('ログファイルの始まり時刻')\n",
    "df[:1][TIME][0]\n",
    "start = df.head(1).iat[0, 1]\n",
    "start"
   ],
   "metadata": {
    "collapsed": false,
    "pycharm": {
     "name": "#%%\n"
    }
   }
  },
  {
   "cell_type": "code",
   "execution_count": null,
   "outputs": [],
   "source": [
    "print('ログファルの終了時刻')\n",
    "end = df.tail(1).iat[0, 1]\n",
    "end"
   ],
   "metadata": {
    "collapsed": false,
    "pycharm": {
     "name": "#%%\n"
    }
   }
  },
  {
   "cell_type": "code",
   "execution_count": 7,
   "outputs": [
    {
     "name": "stdout",
     "output_type": "stream",
     "text": [
      "ログファイルの長さ時間\n"
     ]
    },
    {
     "data": {
      "text/plain": "Timedelta('0 days 00:50:34.980496')"
     },
     "execution_count": 7,
     "metadata": {},
     "output_type": "execute_result"
    }
   ],
   "source": [
    "print('ログファイルの長さ時間')\n",
    "diff = end - start\n",
    "diff"
   ],
   "metadata": {
    "collapsed": false,
    "pycharm": {
     "name": "#%%\n"
    }
   }
  },
  {
   "cell_type": "code",
   "execution_count": 8,
   "outputs": [
    {
     "name": "stdout",
     "output_type": "stream",
     "text": [
      "343454340650.0\n",
      "2317.6986108700003\n"
     ]
    }
   ],
   "source": [
    "#取引高\n",
    "\n",
    "long_volume = df[(df[ACTION]==Action.TRADE_LONG)].sum()\n",
    "print(long_volume[PRICE])\n",
    "print(long_volume[SIZE])\n"
   ],
   "metadata": {
    "collapsed": false,
    "pycharm": {
     "name": "#%%\n"
    }
   }
  },
  {
   "cell_type": "code",
   "execution_count": 12,
   "outputs": [
    {
     "name": "stdout",
     "output_type": "stream",
     "text": [
      "統計量の表示\n"
     ]
    },
    {
     "data": {
      "text/plain": "             action         index         price          size  checksum\ncount  1.076170e+06  1.076170e+06  1.075553e+06  1.075553e+06       0.0\nmean   2.649818e+00  1.093155e+08  9.957481e+06  1.793599e-01       NaN\nstd    8.176380e-01  4.202949e+08  1.214221e+05  1.904452e+00       NaN\nmin    1.000000e+00  0.000000e+00  5.000000e+06  0.000000e+00       NaN\n25%    2.000000e+00  7.000000e+00  9.957560e+06  1.000000e-02       NaN\n50%    3.000000e+00  2.100000e+01  9.966520e+06  3.700000e-02       NaN\n75%    3.000000e+00  1.370000e+02  9.974470e+06  2.000000e-01       NaN\nmax    6.000000e+00  1.725294e+09  1.850000e+07  9.950300e+02       NaN",
      "text/html": "<div>\n<style scoped>\n    .dataframe tbody tr th:only-of-type {\n        vertical-align: middle;\n    }\n\n    .dataframe tbody tr th {\n        vertical-align: top;\n    }\n\n    .dataframe thead th {\n        text-align: right;\n    }\n</style>\n<table border=\"1\" class=\"dataframe\">\n  <thead>\n    <tr style=\"text-align: right;\">\n      <th></th>\n      <th>action</th>\n      <th>index</th>\n      <th>price</th>\n      <th>size</th>\n      <th>checksum</th>\n    </tr>\n  </thead>\n  <tbody>\n    <tr>\n      <th>count</th>\n      <td>1.076170e+06</td>\n      <td>1.076170e+06</td>\n      <td>1.075553e+06</td>\n      <td>1.075553e+06</td>\n      <td>0.0</td>\n    </tr>\n    <tr>\n      <th>mean</th>\n      <td>2.649818e+00</td>\n      <td>1.093155e+08</td>\n      <td>9.957481e+06</td>\n      <td>1.793599e-01</td>\n      <td>NaN</td>\n    </tr>\n    <tr>\n      <th>std</th>\n      <td>8.176380e-01</td>\n      <td>4.202949e+08</td>\n      <td>1.214221e+05</td>\n      <td>1.904452e+00</td>\n      <td>NaN</td>\n    </tr>\n    <tr>\n      <th>min</th>\n      <td>1.000000e+00</td>\n      <td>0.000000e+00</td>\n      <td>5.000000e+06</td>\n      <td>0.000000e+00</td>\n      <td>NaN</td>\n    </tr>\n    <tr>\n      <th>25%</th>\n      <td>2.000000e+00</td>\n      <td>7.000000e+00</td>\n      <td>9.957560e+06</td>\n      <td>1.000000e-02</td>\n      <td>NaN</td>\n    </tr>\n    <tr>\n      <th>50%</th>\n      <td>3.000000e+00</td>\n      <td>2.100000e+01</td>\n      <td>9.966520e+06</td>\n      <td>3.700000e-02</td>\n      <td>NaN</td>\n    </tr>\n    <tr>\n      <th>75%</th>\n      <td>3.000000e+00</td>\n      <td>1.370000e+02</td>\n      <td>9.974470e+06</td>\n      <td>2.000000e-01</td>\n      <td>NaN</td>\n    </tr>\n    <tr>\n      <th>max</th>\n      <td>6.000000e+00</td>\n      <td>1.725294e+09</td>\n      <td>1.850000e+07</td>\n      <td>9.950300e+02</td>\n      <td>NaN</td>\n    </tr>\n  </tbody>\n</table>\n</div>"
     },
     "execution_count": 12,
     "metadata": {},
     "output_type": "execute_result"
    }
   ],
   "source": [
    "print('統計量の表示')\n",
    "df.describe()"
   ],
   "metadata": {
    "collapsed": false,
    "pycharm": {
     "name": "#%%\n"
    }
   }
  },
  {
   "cell_type": "code",
   "execution_count": 13,
   "outputs": [
    {
     "name": "stdout",
     "output_type": "stream",
     "text": [
      "Long\n"
     ]
    },
    {
     "data": {
      "text/plain": "        action         index         price          size  checksum\ncount  34466.0  3.446600e+04  3.446600e+04  3.446600e+04       0.0\nmean       4.0  1.725259e+09  9.965019e+06  6.724594e-02       NaN\nstd        0.0  2.033473e+04  1.100571e+04  1.430211e-01       NaN\nmin        4.0  1.725225e+09  9.928410e+06  5.000000e-08       NaN\n25%        4.0  1.725241e+09  9.958990e+06  1.000000e-02       NaN\n50%        4.0  1.725259e+09  9.966490e+06  2.500000e-02       NaN\n75%        4.0  1.725276e+09  9.972960e+06  6.364188e-02       NaN\nmax        4.0  1.725294e+09  9.987270e+06  7.593818e+00       NaN",
      "text/html": "<div>\n<style scoped>\n    .dataframe tbody tr th:only-of-type {\n        vertical-align: middle;\n    }\n\n    .dataframe tbody tr th {\n        vertical-align: top;\n    }\n\n    .dataframe thead th {\n        text-align: right;\n    }\n</style>\n<table border=\"1\" class=\"dataframe\">\n  <thead>\n    <tr style=\"text-align: right;\">\n      <th></th>\n      <th>action</th>\n      <th>index</th>\n      <th>price</th>\n      <th>size</th>\n      <th>checksum</th>\n    </tr>\n  </thead>\n  <tbody>\n    <tr>\n      <th>count</th>\n      <td>34466.0</td>\n      <td>3.446600e+04</td>\n      <td>3.446600e+04</td>\n      <td>3.446600e+04</td>\n      <td>0.0</td>\n    </tr>\n    <tr>\n      <th>mean</th>\n      <td>4.0</td>\n      <td>1.725259e+09</td>\n      <td>9.965019e+06</td>\n      <td>6.724594e-02</td>\n      <td>NaN</td>\n    </tr>\n    <tr>\n      <th>std</th>\n      <td>0.0</td>\n      <td>2.033473e+04</td>\n      <td>1.100571e+04</td>\n      <td>1.430211e-01</td>\n      <td>NaN</td>\n    </tr>\n    <tr>\n      <th>min</th>\n      <td>4.0</td>\n      <td>1.725225e+09</td>\n      <td>9.928410e+06</td>\n      <td>5.000000e-08</td>\n      <td>NaN</td>\n    </tr>\n    <tr>\n      <th>25%</th>\n      <td>4.0</td>\n      <td>1.725241e+09</td>\n      <td>9.958990e+06</td>\n      <td>1.000000e-02</td>\n      <td>NaN</td>\n    </tr>\n    <tr>\n      <th>50%</th>\n      <td>4.0</td>\n      <td>1.725259e+09</td>\n      <td>9.966490e+06</td>\n      <td>2.500000e-02</td>\n      <td>NaN</td>\n    </tr>\n    <tr>\n      <th>75%</th>\n      <td>4.0</td>\n      <td>1.725276e+09</td>\n      <td>9.972960e+06</td>\n      <td>6.364188e-02</td>\n      <td>NaN</td>\n    </tr>\n    <tr>\n      <th>max</th>\n      <td>4.0</td>\n      <td>1.725294e+09</td>\n      <td>9.987270e+06</td>\n      <td>7.593818e+00</td>\n      <td>NaN</td>\n    </tr>\n  </tbody>\n</table>\n</div>"
     },
     "execution_count": 13,
     "metadata": {},
     "output_type": "execute_result"
    }
   ],
   "source": [
    "print('Long')\n",
    "long = df[(df[ACTION]==Action.TRADE_LONG) | (df[ACTION]==Action.TRADE_LONG_LIQUID)]\n",
    "long.describe()"
   ],
   "metadata": {
    "collapsed": false,
    "pycharm": {
     "name": "#%%\n"
    }
   }
  },
  {
   "cell_type": "code",
   "execution_count": 14,
   "outputs": [
    {
     "name": "stdout",
     "output_type": "stream",
     "text": [
      "short\n"
     ]
    },
    {
     "data": {
      "text/plain": "        action         index         price          size  checksum\ncount  33700.0  3.370000e+04  3.370000e+04  3.370000e+04       0.0\nmean       6.0  1.725260e+09  9.964531e+06  6.699119e-02       NaN\nstd        0.0  1.988667e+04  1.039776e+04  1.444442e-01       NaN\nmin        6.0  1.725225e+09  9.928130e+06  4.000000e-08       NaN\n25%        6.0  1.725243e+09  9.959038e+06  1.000000e-02       NaN\n50%        6.0  1.725260e+09  9.966080e+06  2.537622e-02       NaN\n75%        6.0  1.725277e+09  9.972042e+06  6.320411e-02       NaN\nmax        6.0  1.725294e+09  9.986650e+06  1.055365e+01       NaN",
      "text/html": "<div>\n<style scoped>\n    .dataframe tbody tr th:only-of-type {\n        vertical-align: middle;\n    }\n\n    .dataframe tbody tr th {\n        vertical-align: top;\n    }\n\n    .dataframe thead th {\n        text-align: right;\n    }\n</style>\n<table border=\"1\" class=\"dataframe\">\n  <thead>\n    <tr style=\"text-align: right;\">\n      <th></th>\n      <th>action</th>\n      <th>index</th>\n      <th>price</th>\n      <th>size</th>\n      <th>checksum</th>\n    </tr>\n  </thead>\n  <tbody>\n    <tr>\n      <th>count</th>\n      <td>33700.0</td>\n      <td>3.370000e+04</td>\n      <td>3.370000e+04</td>\n      <td>3.370000e+04</td>\n      <td>0.0</td>\n    </tr>\n    <tr>\n      <th>mean</th>\n      <td>6.0</td>\n      <td>1.725260e+09</td>\n      <td>9.964531e+06</td>\n      <td>6.699119e-02</td>\n      <td>NaN</td>\n    </tr>\n    <tr>\n      <th>std</th>\n      <td>0.0</td>\n      <td>1.988667e+04</td>\n      <td>1.039776e+04</td>\n      <td>1.444442e-01</td>\n      <td>NaN</td>\n    </tr>\n    <tr>\n      <th>min</th>\n      <td>6.0</td>\n      <td>1.725225e+09</td>\n      <td>9.928130e+06</td>\n      <td>4.000000e-08</td>\n      <td>NaN</td>\n    </tr>\n    <tr>\n      <th>25%</th>\n      <td>6.0</td>\n      <td>1.725243e+09</td>\n      <td>9.959038e+06</td>\n      <td>1.000000e-02</td>\n      <td>NaN</td>\n    </tr>\n    <tr>\n      <th>50%</th>\n      <td>6.0</td>\n      <td>1.725260e+09</td>\n      <td>9.966080e+06</td>\n      <td>2.537622e-02</td>\n      <td>NaN</td>\n    </tr>\n    <tr>\n      <th>75%</th>\n      <td>6.0</td>\n      <td>1.725277e+09</td>\n      <td>9.972042e+06</td>\n      <td>6.320411e-02</td>\n      <td>NaN</td>\n    </tr>\n    <tr>\n      <th>max</th>\n      <td>6.0</td>\n      <td>1.725294e+09</td>\n      <td>9.986650e+06</td>\n      <td>1.055365e+01</td>\n      <td>NaN</td>\n    </tr>\n  </tbody>\n</table>\n</div>"
     },
     "execution_count": 14,
     "metadata": {},
     "output_type": "execute_result"
    }
   ],
   "source": [
    "print('short')\n",
    "short = df[(df[ACTION]==Action.TRADE_SHORT) | (df[ACTION]==Action.TRADE_SHORT_LIQUID)]\n",
    "short.describe()"
   ],
   "metadata": {
    "collapsed": false,
    "pycharm": {
     "name": "#%%\n"
    }
   }
  },
  {
   "cell_type": "code",
   "execution_count": 15,
   "outputs": [
    {
     "data": {
      "text/plain": "              action         index         price           size  checksum\ncount  511804.000000  5.118040e+05  5.111870e+05  511187.000000       0.0\nmean        1.998794  7.422221e+04  9.934754e+06       0.177971       NaN\nstd         0.034700  1.131090e+07  1.536206e+05       0.859125       NaN\nmin         1.000000  0.000000e+00  5.000000e+06       0.000000       NaN\n25%         2.000000  7.000000e+00  9.951410e+06       0.010000       NaN\n50%         2.000000  1.900000e+01  9.960610e+06       0.039620       NaN\n75%         2.000000  9.400000e+01  9.967000e+06       0.200000       NaN\nmax         2.000000  1.725228e+09  9.986650e+06     179.283158       NaN",
      "text/html": "<div>\n<style scoped>\n    .dataframe tbody tr th:only-of-type {\n        vertical-align: middle;\n    }\n\n    .dataframe tbody tr th {\n        vertical-align: top;\n    }\n\n    .dataframe thead th {\n        text-align: right;\n    }\n</style>\n<table border=\"1\" class=\"dataframe\">\n  <thead>\n    <tr style=\"text-align: right;\">\n      <th></th>\n      <th>action</th>\n      <th>index</th>\n      <th>price</th>\n      <th>size</th>\n      <th>checksum</th>\n    </tr>\n  </thead>\n  <tbody>\n    <tr>\n      <th>count</th>\n      <td>511804.000000</td>\n      <td>5.118040e+05</td>\n      <td>5.111870e+05</td>\n      <td>511187.000000</td>\n      <td>0.0</td>\n    </tr>\n    <tr>\n      <th>mean</th>\n      <td>1.998794</td>\n      <td>7.422221e+04</td>\n      <td>9.934754e+06</td>\n      <td>0.177971</td>\n      <td>NaN</td>\n    </tr>\n    <tr>\n      <th>std</th>\n      <td>0.034700</td>\n      <td>1.131090e+07</td>\n      <td>1.536206e+05</td>\n      <td>0.859125</td>\n      <td>NaN</td>\n    </tr>\n    <tr>\n      <th>min</th>\n      <td>1.000000</td>\n      <td>0.000000e+00</td>\n      <td>5.000000e+06</td>\n      <td>0.000000</td>\n      <td>NaN</td>\n    </tr>\n    <tr>\n      <th>25%</th>\n      <td>2.000000</td>\n      <td>7.000000e+00</td>\n      <td>9.951410e+06</td>\n      <td>0.010000</td>\n      <td>NaN</td>\n    </tr>\n    <tr>\n      <th>50%</th>\n      <td>2.000000</td>\n      <td>1.900000e+01</td>\n      <td>9.960610e+06</td>\n      <td>0.039620</td>\n      <td>NaN</td>\n    </tr>\n    <tr>\n      <th>75%</th>\n      <td>2.000000</td>\n      <td>9.400000e+01</td>\n      <td>9.967000e+06</td>\n      <td>0.200000</td>\n      <td>NaN</td>\n    </tr>\n    <tr>\n      <th>max</th>\n      <td>2.000000</td>\n      <td>1.725228e+09</td>\n      <td>9.986650e+06</td>\n      <td>179.283158</td>\n      <td>NaN</td>\n    </tr>\n  </tbody>\n</table>\n</div>"
     },
     "execution_count": 15,
     "metadata": {},
     "output_type": "execute_result"
    }
   ],
   "source": [
    "bits = df[((df[ACTION]==Action.PARTIAL)|(df[ACTION]==Action.UPDATE_BIT))]\n",
    "\n",
    "bits.describe()"
   ],
   "metadata": {
    "collapsed": false,
    "pycharm": {
     "name": "#%%\n"
    }
   }
  },
  {
   "cell_type": "code",
   "execution_count": 16,
   "outputs": [
    {
     "data": {
      "text/plain": "              action          index         price           size  checksum\ncount  496817.000000  496817.000000  4.962000e+05  496200.000000       0.0\nmean        2.997516      64.028906  9.979893e+06       0.196210       NaN\nstd         0.070438      85.246870  8.116556e+04       2.663915       NaN\nmin         1.000000       0.000000  9.928410e+06       0.000000       NaN\n25%         3.000000       7.000000  9.966050e+06       0.010000       NaN\n50%         3.000000      18.000000  9.973660e+06       0.038080       NaN\n75%         3.000000      99.000000  9.980250e+06       0.200000       NaN\nmax         3.000000     304.000000  1.850000e+07     995.030000       NaN",
      "text/html": "<div>\n<style scoped>\n    .dataframe tbody tr th:only-of-type {\n        vertical-align: middle;\n    }\n\n    .dataframe tbody tr th {\n        vertical-align: top;\n    }\n\n    .dataframe thead th {\n        text-align: right;\n    }\n</style>\n<table border=\"1\" class=\"dataframe\">\n  <thead>\n    <tr style=\"text-align: right;\">\n      <th></th>\n      <th>action</th>\n      <th>index</th>\n      <th>price</th>\n      <th>size</th>\n      <th>checksum</th>\n    </tr>\n  </thead>\n  <tbody>\n    <tr>\n      <th>count</th>\n      <td>496817.000000</td>\n      <td>496817.000000</td>\n      <td>4.962000e+05</td>\n      <td>496200.000000</td>\n      <td>0.0</td>\n    </tr>\n    <tr>\n      <th>mean</th>\n      <td>2.997516</td>\n      <td>64.028906</td>\n      <td>9.979893e+06</td>\n      <td>0.196210</td>\n      <td>NaN</td>\n    </tr>\n    <tr>\n      <th>std</th>\n      <td>0.070438</td>\n      <td>85.246870</td>\n      <td>8.116556e+04</td>\n      <td>2.663915</td>\n      <td>NaN</td>\n    </tr>\n    <tr>\n      <th>min</th>\n      <td>1.000000</td>\n      <td>0.000000</td>\n      <td>9.928410e+06</td>\n      <td>0.000000</td>\n      <td>NaN</td>\n    </tr>\n    <tr>\n      <th>25%</th>\n      <td>3.000000</td>\n      <td>7.000000</td>\n      <td>9.966050e+06</td>\n      <td>0.010000</td>\n      <td>NaN</td>\n    </tr>\n    <tr>\n      <th>50%</th>\n      <td>3.000000</td>\n      <td>18.000000</td>\n      <td>9.973660e+06</td>\n      <td>0.038080</td>\n      <td>NaN</td>\n    </tr>\n    <tr>\n      <th>75%</th>\n      <td>3.000000</td>\n      <td>99.000000</td>\n      <td>9.980250e+06</td>\n      <td>0.200000</td>\n      <td>NaN</td>\n    </tr>\n    <tr>\n      <th>max</th>\n      <td>3.000000</td>\n      <td>304.000000</td>\n      <td>1.850000e+07</td>\n      <td>995.030000</td>\n      <td>NaN</td>\n    </tr>\n  </tbody>\n</table>\n</div>"
     },
     "execution_count": 16,
     "metadata": {},
     "output_type": "execute_result"
    }
   ],
   "source": [
    "asks = df[((df[ACTION]==Action.PARTIAL)|(df[ACTION]==Action.UPDATE_ASK))]\n",
    "\n",
    "asks.describe()"
   ],
   "metadata": {
    "collapsed": false,
    "pycharm": {
     "name": "#%%\n"
    }
   }
  },
  {
   "cell_type": "code",
   "execution_count": 29,
   "outputs": [
    {
     "data": {
      "text/plain": "         action                       time  index  price  size  checksum\n1060751       1 2020-05-07 10:06:16.050645      0    NaN   NaN       NaN\n1062616       1 2020-05-07 10:06:21.004209      0    NaN   NaN       NaN\n1064593       1 2020-05-07 10:06:25.958445      0    NaN   NaN       NaN\n1066661       1 2020-05-07 10:06:31.069035      0    NaN   NaN       NaN\n1068261       1 2020-05-07 10:06:35.819841      0    NaN   NaN       NaN\n1069749       1 2020-05-07 10:06:40.637988      0    NaN   NaN       NaN\n1071080       1 2020-05-07 10:06:42.371020      0    NaN   NaN       NaN\n1072587       1 2020-05-07 10:06:51.001687      0    NaN   NaN       NaN\n1074238       1 2020-05-07 10:06:54.645354      0    NaN   NaN       NaN\n1075569       1 2020-05-07 10:07:00.712070      0    NaN   NaN       NaN",
      "text/html": "<div>\n<style scoped>\n    .dataframe tbody tr th:only-of-type {\n        vertical-align: middle;\n    }\n\n    .dataframe tbody tr th {\n        vertical-align: top;\n    }\n\n    .dataframe thead th {\n        text-align: right;\n    }\n</style>\n<table border=\"1\" class=\"dataframe\">\n  <thead>\n    <tr style=\"text-align: right;\">\n      <th></th>\n      <th>action</th>\n      <th>time</th>\n      <th>index</th>\n      <th>price</th>\n      <th>size</th>\n      <th>checksum</th>\n    </tr>\n  </thead>\n  <tbody>\n    <tr>\n      <th>1060751</th>\n      <td>1</td>\n      <td>2020-05-07 10:06:16.050645</td>\n      <td>0</td>\n      <td>NaN</td>\n      <td>NaN</td>\n      <td>NaN</td>\n    </tr>\n    <tr>\n      <th>1062616</th>\n      <td>1</td>\n      <td>2020-05-07 10:06:21.004209</td>\n      <td>0</td>\n      <td>NaN</td>\n      <td>NaN</td>\n      <td>NaN</td>\n    </tr>\n    <tr>\n      <th>1064593</th>\n      <td>1</td>\n      <td>2020-05-07 10:06:25.958445</td>\n      <td>0</td>\n      <td>NaN</td>\n      <td>NaN</td>\n      <td>NaN</td>\n    </tr>\n    <tr>\n      <th>1066661</th>\n      <td>1</td>\n      <td>2020-05-07 10:06:31.069035</td>\n      <td>0</td>\n      <td>NaN</td>\n      <td>NaN</td>\n      <td>NaN</td>\n    </tr>\n    <tr>\n      <th>1068261</th>\n      <td>1</td>\n      <td>2020-05-07 10:06:35.819841</td>\n      <td>0</td>\n      <td>NaN</td>\n      <td>NaN</td>\n      <td>NaN</td>\n    </tr>\n    <tr>\n      <th>1069749</th>\n      <td>1</td>\n      <td>2020-05-07 10:06:40.637988</td>\n      <td>0</td>\n      <td>NaN</td>\n      <td>NaN</td>\n      <td>NaN</td>\n    </tr>\n    <tr>\n      <th>1071080</th>\n      <td>1</td>\n      <td>2020-05-07 10:06:42.371020</td>\n      <td>0</td>\n      <td>NaN</td>\n      <td>NaN</td>\n      <td>NaN</td>\n    </tr>\n    <tr>\n      <th>1072587</th>\n      <td>1</td>\n      <td>2020-05-07 10:06:51.001687</td>\n      <td>0</td>\n      <td>NaN</td>\n      <td>NaN</td>\n      <td>NaN</td>\n    </tr>\n    <tr>\n      <th>1074238</th>\n      <td>1</td>\n      <td>2020-05-07 10:06:54.645354</td>\n      <td>0</td>\n      <td>NaN</td>\n      <td>NaN</td>\n      <td>NaN</td>\n    </tr>\n    <tr>\n      <th>1075569</th>\n      <td>1</td>\n      <td>2020-05-07 10:07:00.712070</td>\n      <td>0</td>\n      <td>NaN</td>\n      <td>NaN</td>\n      <td>NaN</td>\n    </tr>\n  </tbody>\n</table>\n</div>"
     },
     "execution_count": 29,
     "metadata": {},
     "output_type": "execute_result"
    }
   ],
   "source": [
    "partial = df[(df[ACTION]==Action.PARTIAL)]\n",
    "partial.describe()\n",
    "\n",
    "partial.tail(10)"
   ],
   "metadata": {
    "collapsed": false,
    "pycharm": {
     "name": "#%%\n"
    }
   }
  },
  {
   "cell_type": "code",
   "execution_count": 28,
   "outputs": [
    {
     "name": "stdout",
     "output_type": "stream",
     "text": [
      "1075569\n"
     ]
    }
   ],
   "source": [
    "last_partial = partial.drop_duplicates(subset=ACTION, keep='last')\n",
    "print(last_partial.index[0])\n",
    "\n"
   ],
   "metadata": {
    "collapsed": false,
    "pycharm": {
     "name": "#%%\n"
    }
   }
  },
  {
   "cell_type": "code",
   "execution_count": null,
   "outputs": [],
   "source": [
    "last_asks=asks.drop_duplicates(subset=PRICE, keep='last')\n",
    "last_asks.describe()"
   ],
   "metadata": {
    "collapsed": false,
    "pycharm": {
     "name": "#%%\n"
    }
   }
  },
  {
   "cell_type": "code",
   "execution_count": null,
   "outputs": [],
   "source": [
    "last_partial = last_asks[(last_asks[ACTION]==Action.PARTIAL)]\n",
    "last_partial.describe()"
   ],
   "metadata": {
    "collapsed": false,
    "pycharm": {
     "name": "#%%\n"
    }
   }
  },
  {
   "cell_type": "code",
   "execution_count": 21,
   "outputs": [
    {
     "data": {
      "text/plain": "1075569"
     },
     "execution_count": 21,
     "metadata": {},
     "output_type": "execute_result"
    }
   ],
   "source": [
    "index = last_partial.index[0]\n",
    "index"
   ],
   "metadata": {
    "collapsed": false,
    "pycharm": {
     "name": "#%%\n"
    }
   }
  },
  {
   "cell_type": "code",
   "execution_count": null,
   "outputs": [],
   "source": [
    "last_asks = last_asks[(last_asks.index > index)]\n",
    "\n",
    "last_asks"
   ],
   "metadata": {
    "collapsed": false,
    "pycharm": {
     "name": "#%%\n"
    }
   }
  },
  {
   "cell_type": "code",
   "execution_count": null,
   "outputs": [],
   "source": [],
   "metadata": {
    "collapsed": false,
    "pycharm": {
     "name": "#%%\n"
    }
   }
  },
  {
   "cell_type": "code",
   "execution_count": null,
   "outputs": [],
   "source": [],
   "metadata": {
    "collapsed": false,
    "pycharm": {
     "name": "#%%\n"
    }
   }
  },
  {
   "cell_type": "code",
   "execution_count": null,
   "outputs": [],
   "source": [],
   "metadata": {
    "collapsed": false,
    "pycharm": {
     "name": "#%%\n"
    }
   }
  },
  {
   "cell_type": "code",
   "execution_count": null,
   "outputs": [],
   "source": [
    "size=group['size']\n",
    "size=size[size> 9751720]\n",
    "print(size.sum())"
   ],
   "metadata": {
    "collapsed": false,
    "pycharm": {
     "name": "#%%a\n"
    }
   }
  },
  {
   "cell_type": "code",
   "execution_count": null,
   "outputs": [],
   "source": [
    "price = short[short['price'] > 9750000]\n",
    "price.sum()['size']"
   ],
   "metadata": {
    "collapsed": false,
    "pycharm": {
     "name": "#%%\n"
    }
   }
  },
  {
   "cell_type": "code",
   "execution_count": null,
   "outputs": [],
   "source": [
    "long = df[(df['action']==5)]\n",
    "long\n",
    "\n"
   ],
   "metadata": {
    "collapsed": false,
    "pycharm": {
     "name": "#%%\n"
    }
   }
  },
  {
   "cell_type": "markdown",
   "source": [
    "# その他テスト\n",
    "Pandasの時刻はus単位。\n",
    "iso時間はnsのため1000倍する。"
   ],
   "metadata": {
    "collapsed": false
   }
  },
  {
   "cell_type": "code",
   "execution_count": null,
   "outputs": [],
   "source": [
    "TIME=1588463619416252 * 1000\n",
    "pd.Timestamp(TIME)"
   ],
   "metadata": {
    "collapsed": false,
    "pycharm": {
     "name": "#%%\n"
    }
   }
  },
  {
   "cell_type": "markdown",
   "source": [
    "## SQLとPandasの対応表\n",
    "https://qiita.com/takaiyuk/items/5232442eaeb01299b265\n",
    "\n"
   ],
   "metadata": {
    "collapsed": false
   }
  }
 ],
 "metadata": {
  "kernelspec": {
   "display_name": "Python 3",
   "language": "python",
   "name": "python3"
  },
  "language_info": {
   "codemirror_mode": {
    "name": "ipython",
    "version": 2
   },
   "file_extension": ".py",
   "mimetype": "text/x-python",
   "name": "python",
   "nbconvert_exporter": "python",
   "pygments_lexer": "ipython2",
   "version": "2.7.6"
  }
 },
 "nbformat": 4,
 "nbformat_minor": 0
}